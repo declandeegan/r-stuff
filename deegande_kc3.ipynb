{
  "nbformat": 4,
  "nbformat_minor": 0,
  "metadata": {
    "colab": {
      "provenance": []
    },
    "kernelspec": {
      "name": "ir",
      "display_name": "R"
    },
    "language_info": {
      "name": "R"
    }
  },
  "cells": [
    {
      "cell_type": "markdown",
      "source": [
        "# Knowledge Check 3\n",
        "\n",
        "After downloading your completed knowledge check as .ipynb, please upload to canvas as: **YourBCEmail_kc3.ipynb** (e.g. it would be steffese_kc3.ipynb for me)."
      ],
      "metadata": {
        "id": "ccgHJBWQxk_i"
      }
    },
    {
      "cell_type": "markdown",
      "source": [
        "## Setup\n",
        "\n",
        "\n",
        "We will load the data from our shared Google Drive with the following code snippet.\n",
        "\n",
        "It will ask for permission to access your Google Drive and will require you to paste the provided authorization code.\n",
        "\n",
        "(If this doesn't work for some reason, you can also just upload the data manually.)\n"
      ],
      "metadata": {
        "id": "6qSUxoGUMupr"
      }
    },
    {
      "cell_type": "code",
      "source": [
        "# YOU ONLY NEED TO RUN THIS CELL ONCE AT THE BEGINNING OF YOUR SESSION.\n",
        "\n",
        "install.packages(\"googledrive\")\n",
        "library(googledrive)\n",
        "library(tidyverse)\n",
        "library(scales)\n",
        "\n",
        "options(scipen = 999) # to prevent scientific notation\n",
        "\n",
        "# Will ask you to click the URL, then choose your BC email address,\n",
        "# accept permissions by clicking Continue, copy over the\n",
        "# authorization code by clicking \"Copy to Clipboard\".\n",
        "# Then paste it into prompt below and press Enter.\n",
        "# Once that's done this notebook can access files in your\n",
        "# Google Drive.\n",
        "googledrive::drive_auth(use_oob = TRUE, cache = FALSE)\n"
      ],
      "metadata": {
        "colab": {
          "base_uri": "https://localhost:8080/"
        },
        "id": "4I7ogmByzySt",
        "outputId": "eb097738-9ccd-4b46-a8d8-de83242c37e2"
      },
      "execution_count": 3,
      "outputs": [
        {
          "output_type": "stream",
          "name": "stderr",
          "text": [
            "Installing package into ‘/usr/local/lib/R/site-library’\n",
            "(as ‘lib’ is unspecified)\n",
            "\n",
            "Please point your browser to the following url: \n",
            "\n",
            "https://accounts.google.com/o/oauth2/v2/auth?client_id=603366585132-frjlouoa3s2ono25d2l9ukvhlsrlnr7k.apps.googleusercontent.com&scope=https%3A%2F%2Fwww.googleapis.com%2Fauth%2Fdrive%20https%3A%2F%2Fwww.googleapis.com%2Fauth%2Fuserinfo.email&redirect_uri=https%3A%2F%2Fwww.tidyverse.org%2Fgoogle-callback%2F&response_type=code&state=aaae68f32db192fc498f53dcca851010&access_type=offline&prompt=consent\n",
            "\n"
          ]
        },
        {
          "name": "stdout",
          "output_type": "stream",
          "text": [
            "Enter authorization code: eyJjb2RlIjoiNC8wQWZKb2hYbUhkTVR2NlAwbnJrVVBkLXJCV3FFVmhVQ1lZLW0wanRsOUxJLTRPZHZVa2d1YW9EM1FFRnJTU0ctd3JKQy1ZQSIsInN0YXRlIjoiYWFhZTY4ZjMyZGIxOTJmYzQ5OGY1M2RjY2E4NTEwMTAifQ==\n"
          ]
        }
      ]
    },
    {
      "cell_type": "code",
      "source": [
        "load_data <- function(file_path){\n",
        "\n",
        "# Find the shared data files.\n",
        "csv_file <- drive_get(path = file_path)\n",
        "\n",
        "# Load the data files.\n",
        "df <- csv_file %>%\n",
        "  drive_read_string() %>%\n",
        "  read.csv(text = .)\n",
        "\n",
        "return(df)\n",
        "}\n",
        "\n",
        "# Load the data files.\n",
        "df_music <- load_data(file_path = \"ISYS3350/data/music.csv\") |>\n",
        "  select(\n",
        "    index = Index,\n",
        "    highest_charting_position = Highest.Charting.Position,\n",
        "    song_name = Song.Name,\n",
        "    artist = Artist,\n",
        "    streams = Streams,\n",
        "    followers = Artist.Followers,\n",
        "    duration = Duration..ms.,\n",
        "    highest_charting_position = Highest.Charting.Position,\n",
        "    chord = Chord,\n",
        "    genre = Genre\n",
        "    )\n",
        "\n",
        "df_football <- load_data(file_path = \"ISYS3350/data/college_football_2000_2020.csv\")\n",
        "\n",
        "# If everything worked, this should show the first 3 rows of each dataframe.\n",
        "df_music |> head(12)\n",
        "df_football |> head(10)\n"
      ],
      "metadata": {
        "colab": {
          "base_uri": "https://localhost:8080/",
          "height": 1000
        },
        "id": "ymQ7jBDHOzOI",
        "outputId": "317748f9-4ca2-4f19-9254-630b8a9bcc36"
      },
      "execution_count": 4,
      "outputs": [
        {
          "output_type": "stream",
          "name": "stderr",
          "text": [
            "\u001b[32m✔\u001b[39m The input `path` resolved to exactly 1 file.\n",
            "\n",
            "No encoding supplied: defaulting to UTF-8.\n",
            "\n",
            "\u001b[32m✔\u001b[39m The input `path` resolved to exactly 1 file.\n",
            "\n",
            "No encoding supplied: defaulting to UTF-8.\n",
            "\n"
          ]
        },
        {
          "output_type": "display_data",
          "data": {
            "text/html": [
              "<table class=\"dataframe\">\n",
              "<caption>A data.frame: 12 × 9</caption>\n",
              "<thead>\n",
              "\t<tr><th></th><th scope=col>index</th><th scope=col>highest_charting_position</th><th scope=col>song_name</th><th scope=col>artist</th><th scope=col>streams</th><th scope=col>followers</th><th scope=col>duration</th><th scope=col>chord</th><th scope=col>genre</th></tr>\n",
              "\t<tr><th></th><th scope=col>&lt;int&gt;</th><th scope=col>&lt;int&gt;</th><th scope=col>&lt;chr&gt;</th><th scope=col>&lt;chr&gt;</th><th scope=col>&lt;chr&gt;</th><th scope=col>&lt;int&gt;</th><th scope=col>&lt;int&gt;</th><th scope=col>&lt;chr&gt;</th><th scope=col>&lt;chr&gt;</th></tr>\n",
              "</thead>\n",
              "<tbody>\n",
              "\t<tr><th scope=row>1</th><td> 1</td><td>1</td><td>Beggin'                          </td><td>Måneskin               </td><td>48,633,449</td><td> 3377762</td><td>211560</td><td>B    </td><td>['indie rock italiano', 'italian pop']        </td></tr>\n",
              "\t<tr><th scope=row>2</th><td> 2</td><td>2</td><td>STAY (with Justin Bieber)        </td><td>The Kid LAROI          </td><td>47,248,719</td><td> 2230022</td><td>141806</td><td>C#/Db</td><td>['australian hip hop']                        </td></tr>\n",
              "\t<tr><th scope=row>3</th><td> 3</td><td>1</td><td>good 4 u                         </td><td>Olivia Rodrigo         </td><td>40,162,559</td><td> 6266514</td><td>178147</td><td>A    </td><td>['pop']                                       </td></tr>\n",
              "\t<tr><th scope=row>4</th><td> 4</td><td>3</td><td>Bad Habits                       </td><td>Ed Sheeran             </td><td>37,799,456</td><td>83293380</td><td>231041</td><td>B    </td><td>['pop', 'uk pop']                             </td></tr>\n",
              "\t<tr><th scope=row>5</th><td> 5</td><td>5</td><td>INDUSTRY BABY (feat. Jack Harlow)</td><td>Lil Nas X              </td><td>33,948,454</td><td> 5473565</td><td>212000</td><td>D#/Eb</td><td>['lgbtq+ hip hop', 'pop rap']                 </td></tr>\n",
              "\t<tr><th scope=row>6</th><td> 6</td><td>1</td><td>MONTERO (Call Me By Your Name)   </td><td>Lil Nas X              </td><td>30,071,134</td><td> 5473565</td><td>137876</td><td>G#/Ab</td><td>['lgbtq+ hip hop', 'pop rap']                 </td></tr>\n",
              "\t<tr><th scope=row>7</th><td> 7</td><td>3</td><td>Kiss Me More (feat. SZA)         </td><td>Doja Cat               </td><td>29,356,736</td><td> 8640063</td><td>208867</td><td>G#/Ab</td><td>['dance pop', 'pop']                          </td></tr>\n",
              "\t<tr><th scope=row>8</th><td> 8</td><td>2</td><td>Todo De Ti                       </td><td>Rauw Alejandro         </td><td>26,951,613</td><td> 6080597</td><td>199604</td><td>D#/Eb</td><td>['puerto rican pop', 'trap latino']           </td></tr>\n",
              "\t<tr><th scope=row>9</th><td> 9</td><td>3</td><td>Yonaguni                         </td><td>Bad Bunny              </td><td>25,030,128</td><td>36142273</td><td>206710</td><td>C#/Db</td><td>['latin', 'reggaeton', 'trap latino']         </td></tr>\n",
              "\t<tr><th scope=row>10</th><td>10</td><td>8</td><td>I WANNA BE YOUR SLAVE            </td><td>Måneskin               </td><td>24,551,591</td><td> 3377762</td><td>173347</td><td>C#/Db</td><td>['indie rock italiano', 'italian pop']        </td></tr>\n",
              "\t<tr><th scope=row>11</th><td>11</td><td>4</td><td>Levitating (feat. DaBaby)        </td><td>Dua Lipa               </td><td>23,518,010</td><td>27142474</td><td>203064</td><td>F#/Gb</td><td>['dance pop', 'pop', 'uk pop']                </td></tr>\n",
              "\t<tr><th scope=row>12</th><td>12</td><td>9</td><td>Qué Más Pues?                    </td><td>J Balvin, Maria Becerra</td><td>22,405,111</td><td>29051363</td><td>217773</td><td>G#/Ab</td><td>['latin', 'reggaeton', 'reggaeton colombiano']</td></tr>\n",
              "</tbody>\n",
              "</table>\n"
            ],
            "text/markdown": "\nA data.frame: 12 × 9\n\n| <!--/--> | index &lt;int&gt; | highest_charting_position &lt;int&gt; | song_name &lt;chr&gt; | artist &lt;chr&gt; | streams &lt;chr&gt; | followers &lt;int&gt; | duration &lt;int&gt; | chord &lt;chr&gt; | genre &lt;chr&gt; |\n|---|---|---|---|---|---|---|---|---|---|\n| 1 |  1 | 1 | Beggin'                           | Måneskin                | 48,633,449 |  3377762 | 211560 | B     | ['indie rock italiano', 'italian pop']         |\n| 2 |  2 | 2 | STAY (with Justin Bieber)         | The Kid LAROI           | 47,248,719 |  2230022 | 141806 | C#/Db | ['australian hip hop']                         |\n| 3 |  3 | 1 | good 4 u                          | Olivia Rodrigo          | 40,162,559 |  6266514 | 178147 | A     | ['pop']                                        |\n| 4 |  4 | 3 | Bad Habits                        | Ed Sheeran              | 37,799,456 | 83293380 | 231041 | B     | ['pop', 'uk pop']                              |\n| 5 |  5 | 5 | INDUSTRY BABY (feat. Jack Harlow) | Lil Nas X               | 33,948,454 |  5473565 | 212000 | D#/Eb | ['lgbtq+ hip hop', 'pop rap']                  |\n| 6 |  6 | 1 | MONTERO (Call Me By Your Name)    | Lil Nas X               | 30,071,134 |  5473565 | 137876 | G#/Ab | ['lgbtq+ hip hop', 'pop rap']                  |\n| 7 |  7 | 3 | Kiss Me More (feat. SZA)          | Doja Cat                | 29,356,736 |  8640063 | 208867 | G#/Ab | ['dance pop', 'pop']                           |\n| 8 |  8 | 2 | Todo De Ti                        | Rauw Alejandro          | 26,951,613 |  6080597 | 199604 | D#/Eb | ['puerto rican pop', 'trap latino']            |\n| 9 |  9 | 3 | Yonaguni                          | Bad Bunny               | 25,030,128 | 36142273 | 206710 | C#/Db | ['latin', 'reggaeton', 'trap latino']          |\n| 10 | 10 | 8 | I WANNA BE YOUR SLAVE             | Måneskin                | 24,551,591 |  3377762 | 173347 | C#/Db | ['indie rock italiano', 'italian pop']         |\n| 11 | 11 | 4 | Levitating (feat. DaBaby)         | Dua Lipa                | 23,518,010 | 27142474 | 203064 | F#/Gb | ['dance pop', 'pop', 'uk pop']                 |\n| 12 | 12 | 9 | Qué Más Pues?                     | J Balvin, Maria Becerra | 22,405,111 | 29051363 | 217773 | G#/Ab | ['latin', 'reggaeton', 'reggaeton colombiano'] |\n\n",
            "text/latex": "A data.frame: 12 × 9\n\\begin{tabular}{r|lllllllll}\n  & index & highest\\_charting\\_position & song\\_name & artist & streams & followers & duration & chord & genre\\\\\n  & <int> & <int> & <chr> & <chr> & <chr> & <int> & <int> & <chr> & <chr>\\\\\n\\hline\n\t1 &  1 & 1 & Beggin'                           & Måneskin                & 48,633,449 &  3377762 & 211560 & B     & {[}'indie rock italiano', 'italian pop'{]}        \\\\\n\t2 &  2 & 2 & STAY (with Justin Bieber)         & The Kid LAROI           & 47,248,719 &  2230022 & 141806 & C\\#/Db & {[}'australian hip hop'{]}                        \\\\\n\t3 &  3 & 1 & good 4 u                          & Olivia Rodrigo          & 40,162,559 &  6266514 & 178147 & A     & {[}'pop'{]}                                       \\\\\n\t4 &  4 & 3 & Bad Habits                        & Ed Sheeran              & 37,799,456 & 83293380 & 231041 & B     & {[}'pop', 'uk pop'{]}                             \\\\\n\t5 &  5 & 5 & INDUSTRY BABY (feat. Jack Harlow) & Lil Nas X               & 33,948,454 &  5473565 & 212000 & D\\#/Eb & {[}'lgbtq+ hip hop', 'pop rap'{]}                 \\\\\n\t6 &  6 & 1 & MONTERO (Call Me By Your Name)    & Lil Nas X               & 30,071,134 &  5473565 & 137876 & G\\#/Ab & {[}'lgbtq+ hip hop', 'pop rap'{]}                 \\\\\n\t7 &  7 & 3 & Kiss Me More (feat. SZA)          & Doja Cat                & 29,356,736 &  8640063 & 208867 & G\\#/Ab & {[}'dance pop', 'pop'{]}                          \\\\\n\t8 &  8 & 2 & Todo De Ti                        & Rauw Alejandro          & 26,951,613 &  6080597 & 199604 & D\\#/Eb & {[}'puerto rican pop', 'trap latino'{]}           \\\\\n\t9 &  9 & 3 & Yonaguni                          & Bad Bunny               & 25,030,128 & 36142273 & 206710 & C\\#/Db & {[}'latin', 'reggaeton', 'trap latino'{]}         \\\\\n\t10 & 10 & 8 & I WANNA BE YOUR SLAVE             & Måneskin                & 24,551,591 &  3377762 & 173347 & C\\#/Db & {[}'indie rock italiano', 'italian pop'{]}        \\\\\n\t11 & 11 & 4 & Levitating (feat. DaBaby)         & Dua Lipa                & 23,518,010 & 27142474 & 203064 & F\\#/Gb & {[}'dance pop', 'pop', 'uk pop'{]}                \\\\\n\t12 & 12 & 9 & Qué Más Pues?                     & J Balvin, Maria Becerra & 22,405,111 & 29051363 & 217773 & G\\#/Ab & {[}'latin', 'reggaeton', 'reggaeton colombiano'{]}\\\\\n\\end{tabular}\n",
            "text/plain": [
              "   index highest_charting_position song_name                        \n",
              "1   1    1                         Beggin'                          \n",
              "2   2    2                         STAY (with Justin Bieber)        \n",
              "3   3    1                         good 4 u                         \n",
              "4   4    3                         Bad Habits                       \n",
              "5   5    5                         INDUSTRY BABY (feat. Jack Harlow)\n",
              "6   6    1                         MONTERO (Call Me By Your Name)   \n",
              "7   7    3                         Kiss Me More (feat. SZA)         \n",
              "8   8    2                         Todo De Ti                       \n",
              "9   9    3                         Yonaguni                         \n",
              "10 10    8                         I WANNA BE YOUR SLAVE            \n",
              "11 11    4                         Levitating (feat. DaBaby)        \n",
              "12 12    9                         Qué Más Pues?                    \n",
              "   artist                  streams    followers duration chord\n",
              "1  Måneskin                48,633,449  3377762  211560   B    \n",
              "2  The Kid LAROI           47,248,719  2230022  141806   C#/Db\n",
              "3  Olivia Rodrigo          40,162,559  6266514  178147   A    \n",
              "4  Ed Sheeran              37,799,456 83293380  231041   B    \n",
              "5  Lil Nas X               33,948,454  5473565  212000   D#/Eb\n",
              "6  Lil Nas X               30,071,134  5473565  137876   G#/Ab\n",
              "7  Doja Cat                29,356,736  8640063  208867   G#/Ab\n",
              "8  Rauw Alejandro          26,951,613  6080597  199604   D#/Eb\n",
              "9  Bad Bunny               25,030,128 36142273  206710   C#/Db\n",
              "10 Måneskin                24,551,591  3377762  173347   C#/Db\n",
              "11 Dua Lipa                23,518,010 27142474  203064   F#/Gb\n",
              "12 J Balvin, Maria Becerra 22,405,111 29051363  217773   G#/Ab\n",
              "   genre                                         \n",
              "1  ['indie rock italiano', 'italian pop']        \n",
              "2  ['australian hip hop']                        \n",
              "3  ['pop']                                       \n",
              "4  ['pop', 'uk pop']                             \n",
              "5  ['lgbtq+ hip hop', 'pop rap']                 \n",
              "6  ['lgbtq+ hip hop', 'pop rap']                 \n",
              "7  ['dance pop', 'pop']                          \n",
              "8  ['puerto rican pop', 'trap latino']           \n",
              "9  ['latin', 'reggaeton', 'trap latino']         \n",
              "10 ['indie rock italiano', 'italian pop']        \n",
              "11 ['dance pop', 'pop', 'uk pop']                \n",
              "12 ['latin', 'reggaeton', 'reggaeton colombiano']"
            ]
          },
          "metadata": {}
        },
        {
          "output_type": "display_data",
          "data": {
            "text/html": [
              "<table class=\"dataframe\">\n",
              "<caption>A data.frame: 10 × 15</caption>\n",
              "<thead>\n",
              "\t<tr><th></th><th scope=col>Date</th><th scope=col>Season</th><th scope=col>Team</th><th scope=col>Opponent</th><th scope=col>Result</th><th scope=col>Points_For</th><th scope=col>Points_Against</th><th scope=col>Spread</th><th scope=col>Played</th><th scope=col>Home</th><th scope=col>Neutral_Location</th><th scope=col>OT</th><th scope=col>Team_FBS</th><th scope=col>Opp_FBS</th><th scope=col>Game_ID</th></tr>\n",
              "\t<tr><th></th><th scope=col>&lt;chr&gt;</th><th scope=col>&lt;int&gt;</th><th scope=col>&lt;chr&gt;</th><th scope=col>&lt;chr&gt;</th><th scope=col>&lt;chr&gt;</th><th scope=col>&lt;int&gt;</th><th scope=col>&lt;int&gt;</th><th scope=col>&lt;int&gt;</th><th scope=col>&lt;lgl&gt;</th><th scope=col>&lt;int&gt;</th><th scope=col>&lt;lgl&gt;</th><th scope=col>&lt;lgl&gt;</th><th scope=col>&lt;int&gt;</th><th scope=col>&lt;int&gt;</th><th scope=col>&lt;int&gt;</th></tr>\n",
              "</thead>\n",
              "<tbody>\n",
              "\t<tr><th scope=row>1</th><td>3/28/2021</td><td>2020</td><td>Tennessee State         </td><td>Tennessee-Martin        </td><td>W</td><td>26</td><td>24</td><td>  2</td><td>TRUE</td><td>1</td><td>FALSE</td><td>FALSE</td><td>0</td><td>0</td><td>401279119</td></tr>\n",
              "\t<tr><th scope=row>2</th><td>3/28/2021</td><td>2020</td><td>Tennessee-Martin        </td><td>Tennessee State         </td><td>L</td><td>24</td><td>26</td><td> -2</td><td>TRUE</td><td>0</td><td>FALSE</td><td>FALSE</td><td>0</td><td>0</td><td>401279119</td></tr>\n",
              "\t<tr><th scope=row>3</th><td>3/28/2021</td><td>2020</td><td>Eastern Illinois        </td><td>Murray State            </td><td>L</td><td>27</td><td>41</td><td>-14</td><td>TRUE</td><td>0</td><td>FALSE</td><td>FALSE</td><td>0</td><td>0</td><td>401279120</td></tr>\n",
              "\t<tr><th scope=row>4</th><td>3/28/2021</td><td>2020</td><td>Murray State            </td><td>Eastern Illinois        </td><td>W</td><td>41</td><td>27</td><td> 14</td><td>TRUE</td><td>1</td><td>FALSE</td><td>FALSE</td><td>0</td><td>0</td><td>401279120</td></tr>\n",
              "\t<tr><th scope=row>5</th><td>3/28/2021</td><td>2020</td><td>Tennessee Tech          </td><td>Southeast Missouri State</td><td>L</td><td>21</td><td>24</td><td> -3</td><td>TRUE</td><td>0</td><td>FALSE</td><td>FALSE</td><td>0</td><td>0</td><td>401279121</td></tr>\n",
              "\t<tr><th scope=row>6</th><td>3/28/2021</td><td>2020</td><td>Southeast Missouri State</td><td>Tennessee Tech          </td><td>W</td><td>24</td><td>21</td><td>  3</td><td>TRUE</td><td>1</td><td>FALSE</td><td>FALSE</td><td>0</td><td>0</td><td>401279121</td></tr>\n",
              "\t<tr><th scope=row>7</th><td>3/28/2021</td><td>2020</td><td>Jacksonville State      </td><td>Austin Peay             </td><td>L</td><td>10</td><td>13</td><td> -3</td><td>TRUE</td><td>1</td><td>FALSE</td><td>FALSE</td><td>0</td><td>0</td><td>401279122</td></tr>\n",
              "\t<tr><th scope=row>8</th><td>3/28/2021</td><td>2020</td><td>Austin Peay             </td><td>Jacksonville State      </td><td>W</td><td>13</td><td>10</td><td>  3</td><td>TRUE</td><td>0</td><td>FALSE</td><td>FALSE</td><td>0</td><td>0</td><td>401279122</td></tr>\n",
              "\t<tr><th scope=row>9</th><td>3/28/2021</td><td>2020</td><td>Duquesne                </td><td>Bryant                  </td><td>W</td><td>20</td><td>10</td><td> 10</td><td>TRUE</td><td>0</td><td>FALSE</td><td>FALSE</td><td>0</td><td>0</td><td>401284006</td></tr>\n",
              "\t<tr><th scope=row>10</th><td>3/28/2021</td><td>2020</td><td>Bryant                  </td><td>Duquesne                </td><td>L</td><td>10</td><td>20</td><td>-10</td><td>TRUE</td><td>1</td><td>FALSE</td><td>FALSE</td><td>0</td><td>0</td><td>401284006</td></tr>\n",
              "</tbody>\n",
              "</table>\n"
            ],
            "text/markdown": "\nA data.frame: 10 × 15\n\n| <!--/--> | Date &lt;chr&gt; | Season &lt;int&gt; | Team &lt;chr&gt; | Opponent &lt;chr&gt; | Result &lt;chr&gt; | Points_For &lt;int&gt; | Points_Against &lt;int&gt; | Spread &lt;int&gt; | Played &lt;lgl&gt; | Home &lt;int&gt; | Neutral_Location &lt;lgl&gt; | OT &lt;lgl&gt; | Team_FBS &lt;int&gt; | Opp_FBS &lt;int&gt; | Game_ID &lt;int&gt; |\n|---|---|---|---|---|---|---|---|---|---|---|---|---|---|---|---|\n| 1 | 3/28/2021 | 2020 | Tennessee State          | Tennessee-Martin         | W | 26 | 24 |   2 | TRUE | 1 | FALSE | FALSE | 0 | 0 | 401279119 |\n| 2 | 3/28/2021 | 2020 | Tennessee-Martin         | Tennessee State          | L | 24 | 26 |  -2 | TRUE | 0 | FALSE | FALSE | 0 | 0 | 401279119 |\n| 3 | 3/28/2021 | 2020 | Eastern Illinois         | Murray State             | L | 27 | 41 | -14 | TRUE | 0 | FALSE | FALSE | 0 | 0 | 401279120 |\n| 4 | 3/28/2021 | 2020 | Murray State             | Eastern Illinois         | W | 41 | 27 |  14 | TRUE | 1 | FALSE | FALSE | 0 | 0 | 401279120 |\n| 5 | 3/28/2021 | 2020 | Tennessee Tech           | Southeast Missouri State | L | 21 | 24 |  -3 | TRUE | 0 | FALSE | FALSE | 0 | 0 | 401279121 |\n| 6 | 3/28/2021 | 2020 | Southeast Missouri State | Tennessee Tech           | W | 24 | 21 |   3 | TRUE | 1 | FALSE | FALSE | 0 | 0 | 401279121 |\n| 7 | 3/28/2021 | 2020 | Jacksonville State       | Austin Peay              | L | 10 | 13 |  -3 | TRUE | 1 | FALSE | FALSE | 0 | 0 | 401279122 |\n| 8 | 3/28/2021 | 2020 | Austin Peay              | Jacksonville State       | W | 13 | 10 |   3 | TRUE | 0 | FALSE | FALSE | 0 | 0 | 401279122 |\n| 9 | 3/28/2021 | 2020 | Duquesne                 | Bryant                   | W | 20 | 10 |  10 | TRUE | 0 | FALSE | FALSE | 0 | 0 | 401284006 |\n| 10 | 3/28/2021 | 2020 | Bryant                   | Duquesne                 | L | 10 | 20 | -10 | TRUE | 1 | FALSE | FALSE | 0 | 0 | 401284006 |\n\n",
            "text/latex": "A data.frame: 10 × 15\n\\begin{tabular}{r|lllllllllllllll}\n  & Date & Season & Team & Opponent & Result & Points\\_For & Points\\_Against & Spread & Played & Home & Neutral\\_Location & OT & Team\\_FBS & Opp\\_FBS & Game\\_ID\\\\\n  & <chr> & <int> & <chr> & <chr> & <chr> & <int> & <int> & <int> & <lgl> & <int> & <lgl> & <lgl> & <int> & <int> & <int>\\\\\n\\hline\n\t1 & 3/28/2021 & 2020 & Tennessee State          & Tennessee-Martin         & W & 26 & 24 &   2 & TRUE & 1 & FALSE & FALSE & 0 & 0 & 401279119\\\\\n\t2 & 3/28/2021 & 2020 & Tennessee-Martin         & Tennessee State          & L & 24 & 26 &  -2 & TRUE & 0 & FALSE & FALSE & 0 & 0 & 401279119\\\\\n\t3 & 3/28/2021 & 2020 & Eastern Illinois         & Murray State             & L & 27 & 41 & -14 & TRUE & 0 & FALSE & FALSE & 0 & 0 & 401279120\\\\\n\t4 & 3/28/2021 & 2020 & Murray State             & Eastern Illinois         & W & 41 & 27 &  14 & TRUE & 1 & FALSE & FALSE & 0 & 0 & 401279120\\\\\n\t5 & 3/28/2021 & 2020 & Tennessee Tech           & Southeast Missouri State & L & 21 & 24 &  -3 & TRUE & 0 & FALSE & FALSE & 0 & 0 & 401279121\\\\\n\t6 & 3/28/2021 & 2020 & Southeast Missouri State & Tennessee Tech           & W & 24 & 21 &   3 & TRUE & 1 & FALSE & FALSE & 0 & 0 & 401279121\\\\\n\t7 & 3/28/2021 & 2020 & Jacksonville State       & Austin Peay              & L & 10 & 13 &  -3 & TRUE & 1 & FALSE & FALSE & 0 & 0 & 401279122\\\\\n\t8 & 3/28/2021 & 2020 & Austin Peay              & Jacksonville State       & W & 13 & 10 &   3 & TRUE & 0 & FALSE & FALSE & 0 & 0 & 401279122\\\\\n\t9 & 3/28/2021 & 2020 & Duquesne                 & Bryant                   & W & 20 & 10 &  10 & TRUE & 0 & FALSE & FALSE & 0 & 0 & 401284006\\\\\n\t10 & 3/28/2021 & 2020 & Bryant                   & Duquesne                 & L & 10 & 20 & -10 & TRUE & 1 & FALSE & FALSE & 0 & 0 & 401284006\\\\\n\\end{tabular}\n",
            "text/plain": [
              "   Date      Season Team                     Opponent                 Result\n",
              "1  3/28/2021 2020   Tennessee State          Tennessee-Martin         W     \n",
              "2  3/28/2021 2020   Tennessee-Martin         Tennessee State          L     \n",
              "3  3/28/2021 2020   Eastern Illinois         Murray State             L     \n",
              "4  3/28/2021 2020   Murray State             Eastern Illinois         W     \n",
              "5  3/28/2021 2020   Tennessee Tech           Southeast Missouri State L     \n",
              "6  3/28/2021 2020   Southeast Missouri State Tennessee Tech           W     \n",
              "7  3/28/2021 2020   Jacksonville State       Austin Peay              L     \n",
              "8  3/28/2021 2020   Austin Peay              Jacksonville State       W     \n",
              "9  3/28/2021 2020   Duquesne                 Bryant                   W     \n",
              "10 3/28/2021 2020   Bryant                   Duquesne                 L     \n",
              "   Points_For Points_Against Spread Played Home Neutral_Location OT    Team_FBS\n",
              "1  26         24               2    TRUE   1    FALSE            FALSE 0       \n",
              "2  24         26              -2    TRUE   0    FALSE            FALSE 0       \n",
              "3  27         41             -14    TRUE   0    FALSE            FALSE 0       \n",
              "4  41         27              14    TRUE   1    FALSE            FALSE 0       \n",
              "5  21         24              -3    TRUE   0    FALSE            FALSE 0       \n",
              "6  24         21               3    TRUE   1    FALSE            FALSE 0       \n",
              "7  10         13              -3    TRUE   1    FALSE            FALSE 0       \n",
              "8  13         10               3    TRUE   0    FALSE            FALSE 0       \n",
              "9  20         10              10    TRUE   0    FALSE            FALSE 0       \n",
              "10 10         20             -10    TRUE   1    FALSE            FALSE 0       \n",
              "   Opp_FBS Game_ID  \n",
              "1  0       401279119\n",
              "2  0       401279119\n",
              "3  0       401279120\n",
              "4  0       401279120\n",
              "5  0       401279121\n",
              "6  0       401279121\n",
              "7  0       401279122\n",
              "8  0       401279122\n",
              "9  0       401284006\n",
              "10 0       401284006"
            ]
          },
          "metadata": {}
        }
      ]
    },
    {
      "cell_type": "markdown",
      "source": [
        "And now it's your turn:"
      ],
      "metadata": {
        "id": "HhmG3trmvWn9"
      }
    },
    {
      "cell_type": "markdown",
      "source": [
        "## 1.) Superstars\n",
        "\n",
        "* Streaming services have been argued to increase so-called **superstar effects** in the music industry (based on this famous [Rosen, AER 1981 paper](https://home.uchicago.edu/~vlima/courses/econ201/Superstars.pdf)), i.e. the idea that \"small numbers of people dominate the activities in which they engage\". Let's test this.\n",
        "\n",
        "\n",
        "1. **First, notice that several songs are collaborations by multiple artists. For example, Qué Más Pues? was a collaboration by 2 artists - J Balvin and Maria Becerra. Let's assume that each collaborating artist was equally important in a song's success. So let's split each song into mulitple rows - one for each artist involved. Then divide the number of `streams` and `followers` by the number of artists that were involved in that song. Which song had the largest number of artists?**\n",
        "\n",
        "\n",
        "2. **Second, for each artist, calculate the total number of `streams`, as well as the average number of `followers`. Which artist was the most successful based on each of these metrics?**\n",
        "\n",
        "3. **Third, let's focus on the number of streams. Create a rank variable based on the total number of streams, `rank_streams` - the most streamed artist should be first. Then, calculate a cumulative share of all streams, `cum_share_streams`. What percentage of all streams goes to the top artist? What about the top 10? Top 100? Top 500?**\n",
        "\n",
        "4. **Plot the cumulative share of streams against the artist rank. Include a line that would indicate a perfectly fair distribution. What do you notice?**\n",
        "\n",
        "*Hint: You can use `geom_abline(intercept = a, slope = b)` to add a line for `y = ax + b`.*\n",
        "\n",
        "\n",
        "\n",
        "\n",
        "\n",
        "\n"
      ],
      "metadata": {
        "id": "ZFxSR9Qqhirf"
      }
    },
    {
      "cell_type": "markdown",
      "source": [
        "**Your Answer:**"
      ],
      "metadata": {
        "id": "1lPPSrUpthWq"
      }
    },
    {
      "cell_type": "code",
      "source": [
        "df_music <- df_music |>\n",
        "  mutate(\n",
        "    streams = parse_number(streams, locale = locale(grouping_mark = \",\"))\n",
        "  )"
      ],
      "metadata": {
        "id": "9Opd_S4SyN-P"
      },
      "execution_count": null,
      "outputs": []
    },
    {
      "cell_type": "code",
      "source": [
        "# Split the artist column into multiple rows\n",
        "df_music_expanded <- df_music |>\n",
        "  separate_rows(artist, sep = \", \") |>\n",
        "  group_by(index) |>\n",
        "  mutate(\n",
        "    num_artists = n(),\n",
        "    streams = streams / num_artists,\n",
        "    followers = followers / num_artists\n",
        "  ) |>\n",
        "  ungroup()\n",
        "\n",
        "head(df_music_expanded,20)\n",
        "\n",
        "# Determine which song had the largest number of artists\n",
        "max_artists_song <- df_music_expanded |>\n",
        "  group_by(song_name) |>\n",
        "  summarise(num_artists = first(num_artists)) |>\n",
        "  arrange(-num_artists) |>\n",
        "  slice(1)\n",
        "\n",
        "head(max_artists_song)\n",
        "\n",
        "df_music_expanded |> group_by(artist) |>\n",
        "\n"
      ],
      "metadata": {
        "id": "99M1emOEhMd9",
        "colab": {
          "base_uri": "https://localhost:8080/",
          "height": 942
        },
        "outputId": "d43275fd-9365-4107-b57a-c7f5c98025f2"
      },
      "execution_count": 10,
      "outputs": [
        {
          "output_type": "display_data",
          "data": {
            "text/html": [
              "<table class=\"dataframe\">\n",
              "<caption>A tibble: 20 × 10</caption>\n",
              "<thead>\n",
              "\t<tr><th scope=col>index</th><th scope=col>highest_charting_position</th><th scope=col>song_name</th><th scope=col>artist</th><th scope=col>streams</th><th scope=col>followers</th><th scope=col>duration</th><th scope=col>chord</th><th scope=col>genre</th><th scope=col>num_artists</th></tr>\n",
              "\t<tr><th scope=col>&lt;int&gt;</th><th scope=col>&lt;int&gt;</th><th scope=col>&lt;chr&gt;</th><th scope=col>&lt;chr&gt;</th><th scope=col>&lt;dbl&gt;</th><th scope=col>&lt;dbl&gt;</th><th scope=col>&lt;int&gt;</th><th scope=col>&lt;chr&gt;</th><th scope=col>&lt;chr&gt;</th><th scope=col>&lt;int&gt;</th></tr>\n",
              "</thead>\n",
              "<tbody>\n",
              "\t<tr><td> 1</td><td> 1</td><td>Beggin'                                     </td><td>Måneskin      </td><td>48633449</td><td> 3377762.0</td><td>211560</td><td>B    </td><td>['indie rock italiano', 'italian pop']              </td><td>1</td></tr>\n",
              "\t<tr><td> 2</td><td> 2</td><td>STAY (with Justin Bieber)                   </td><td>The Kid LAROI </td><td>47248719</td><td> 2230022.0</td><td>141806</td><td>C#/Db</td><td>['australian hip hop']                              </td><td>1</td></tr>\n",
              "\t<tr><td> 3</td><td> 1</td><td>good 4 u                                    </td><td>Olivia Rodrigo</td><td>40162559</td><td> 6266514.0</td><td>178147</td><td>A    </td><td>['pop']                                             </td><td>1</td></tr>\n",
              "\t<tr><td> 4</td><td> 3</td><td>Bad Habits                                  </td><td>Ed Sheeran    </td><td>37799456</td><td>83293380.0</td><td>231041</td><td>B    </td><td>['pop', 'uk pop']                                   </td><td>1</td></tr>\n",
              "\t<tr><td> 5</td><td> 5</td><td>INDUSTRY BABY (feat. Jack Harlow)           </td><td>Lil Nas X     </td><td>33948454</td><td> 5473565.0</td><td>212000</td><td>D#/Eb</td><td>['lgbtq+ hip hop', 'pop rap']                       </td><td>1</td></tr>\n",
              "\t<tr><td> 6</td><td> 1</td><td>MONTERO (Call Me By Your Name)              </td><td>Lil Nas X     </td><td>30071134</td><td> 5473565.0</td><td>137876</td><td>G#/Ab</td><td>['lgbtq+ hip hop', 'pop rap']                       </td><td>1</td></tr>\n",
              "\t<tr><td> 7</td><td> 3</td><td>Kiss Me More (feat. SZA)                    </td><td>Doja Cat      </td><td>29356736</td><td> 8640063.0</td><td>208867</td><td>G#/Ab</td><td>['dance pop', 'pop']                                </td><td>1</td></tr>\n",
              "\t<tr><td> 8</td><td> 2</td><td>Todo De Ti                                  </td><td>Rauw Alejandro</td><td>26951613</td><td> 6080597.0</td><td>199604</td><td>D#/Eb</td><td>['puerto rican pop', 'trap latino']                 </td><td>1</td></tr>\n",
              "\t<tr><td> 9</td><td> 3</td><td>Yonaguni                                    </td><td>Bad Bunny     </td><td>25030128</td><td>36142273.0</td><td>206710</td><td>C#/Db</td><td>['latin', 'reggaeton', 'trap latino']               </td><td>1</td></tr>\n",
              "\t<tr><td>10</td><td> 8</td><td>I WANNA BE YOUR SLAVE                       </td><td>Måneskin      </td><td>24551591</td><td> 3377762.0</td><td>173347</td><td>C#/Db</td><td>['indie rock italiano', 'italian pop']              </td><td>1</td></tr>\n",
              "\t<tr><td>11</td><td> 4</td><td>Levitating (feat. DaBaby)                   </td><td>Dua Lipa      </td><td>23518010</td><td>27142474.0</td><td>203064</td><td>F#/Gb</td><td>['dance pop', 'pop', 'uk pop']                      </td><td>1</td></tr>\n",
              "\t<tr><td>12</td><td> 9</td><td>Qué Más Pues?                               </td><td>J Balvin      </td><td>11202556</td><td>14525681.5</td><td>217773</td><td>G#/Ab</td><td>['latin', 'reggaeton', 'reggaeton colombiano']      </td><td>2</td></tr>\n",
              "\t<tr><td>12</td><td> 9</td><td>Qué Más Pues?                               </td><td>Maria Becerra </td><td>11202556</td><td>14525681.5</td><td>217773</td><td>G#/Ab</td><td>['latin', 'reggaeton', 'reggaeton colombiano']      </td><td>2</td></tr>\n",
              "\t<tr><td>13</td><td> 5</td><td>Permission to Dance                         </td><td>BTS           </td><td>22062812</td><td>37106176.0</td><td>187585</td><td>A    </td><td>['k-pop', 'k-pop boy group']                        </td><td>1</td></tr>\n",
              "\t<tr><td>14</td><td> 1</td><td><span style=white-space:pre-wrap>Peaches (feat. Daniel Caesar &amp; Giveon)      </span></td><td>Justin Bieber </td><td>20294457</td><td>48504126.0</td><td>198082</td><td><span style=white-space:pre-wrap>C    </span></td><td><span style=white-space:pre-wrap>['canadian pop', 'pop', 'post-teen pop']            </span></td><td>1</td></tr>\n",
              "\t<tr><td>15</td><td> 2</td><td>Butter                                      </td><td>BTS           </td><td>19985713</td><td>37106176.0</td><td>164442</td><td>G#/Ab</td><td>['k-pop', 'k-pop boy group']                        </td><td>1</td></tr>\n",
              "\t<tr><td>16</td><td> 7</td><td>traitor                                     </td><td>Olivia Rodrigo</td><td>19480679</td><td> 6266514.0</td><td>229227</td><td>D#/Eb</td><td>['pop']                                             </td><td>1</td></tr>\n",
              "\t<tr><td>17</td><td> 3</td><td>deja vu                                     </td><td>Olivia Rodrigo</td><td>18571755</td><td> 6266514.0</td><td>215507</td><td>D    </td><td>['pop']                                             </td><td>1</td></tr>\n",
              "\t<tr><td>18</td><td> 5</td><td>Save Your Tears (with Ariana Grande) (Remix)</td><td><span style=white-space:pre-wrap>The Weeknd    </span></td><td>18053141</td><td>35305637.0</td><td>191014</td><td><span style=white-space:pre-wrap>C    </span></td><td>['canadian contemporary r&amp;b', 'canadian pop', 'pop']</td><td>1</td></tr>\n",
              "\t<tr><td>19</td><td>14</td><td>AM Remix                                    </td><td>Nio Garcia    </td><td> 5872655</td><td>  707911.3</td><td>261335</td><td>F#/Gb</td><td>['latin', 'reggaeton', 'trap latino']               </td><td>3</td></tr>\n",
              "</tbody>\n",
              "</table>\n"
            ],
            "text/markdown": "\nA tibble: 20 × 10\n\n| index &lt;int&gt; | highest_charting_position &lt;int&gt; | song_name &lt;chr&gt; | artist &lt;chr&gt; | streams &lt;dbl&gt; | followers &lt;dbl&gt; | duration &lt;int&gt; | chord &lt;chr&gt; | genre &lt;chr&gt; | num_artists &lt;int&gt; |\n|---|---|---|---|---|---|---|---|---|---|\n|  1 |  1 | Beggin'                                      | Måneskin       | 48633449 |  3377762.0 | 211560 | B     | ['indie rock italiano', 'italian pop']               | 1 |\n|  2 |  2 | STAY (with Justin Bieber)                    | The Kid LAROI  | 47248719 |  2230022.0 | 141806 | C#/Db | ['australian hip hop']                               | 1 |\n|  3 |  1 | good 4 u                                     | Olivia Rodrigo | 40162559 |  6266514.0 | 178147 | A     | ['pop']                                              | 1 |\n|  4 |  3 | Bad Habits                                   | Ed Sheeran     | 37799456 | 83293380.0 | 231041 | B     | ['pop', 'uk pop']                                    | 1 |\n|  5 |  5 | INDUSTRY BABY (feat. Jack Harlow)            | Lil Nas X      | 33948454 |  5473565.0 | 212000 | D#/Eb | ['lgbtq+ hip hop', 'pop rap']                        | 1 |\n|  6 |  1 | MONTERO (Call Me By Your Name)               | Lil Nas X      | 30071134 |  5473565.0 | 137876 | G#/Ab | ['lgbtq+ hip hop', 'pop rap']                        | 1 |\n|  7 |  3 | Kiss Me More (feat. SZA)                     | Doja Cat       | 29356736 |  8640063.0 | 208867 | G#/Ab | ['dance pop', 'pop']                                 | 1 |\n|  8 |  2 | Todo De Ti                                   | Rauw Alejandro | 26951613 |  6080597.0 | 199604 | D#/Eb | ['puerto rican pop', 'trap latino']                  | 1 |\n|  9 |  3 | Yonaguni                                     | Bad Bunny      | 25030128 | 36142273.0 | 206710 | C#/Db | ['latin', 'reggaeton', 'trap latino']                | 1 |\n| 10 |  8 | I WANNA BE YOUR SLAVE                        | Måneskin       | 24551591 |  3377762.0 | 173347 | C#/Db | ['indie rock italiano', 'italian pop']               | 1 |\n| 11 |  4 | Levitating (feat. DaBaby)                    | Dua Lipa       | 23518010 | 27142474.0 | 203064 | F#/Gb | ['dance pop', 'pop', 'uk pop']                       | 1 |\n| 12 |  9 | Qué Más Pues?                                | J Balvin       | 11202556 | 14525681.5 | 217773 | G#/Ab | ['latin', 'reggaeton', 'reggaeton colombiano']       | 2 |\n| 12 |  9 | Qué Más Pues?                                | Maria Becerra  | 11202556 | 14525681.5 | 217773 | G#/Ab | ['latin', 'reggaeton', 'reggaeton colombiano']       | 2 |\n| 13 |  5 | Permission to Dance                          | BTS            | 22062812 | 37106176.0 | 187585 | A     | ['k-pop', 'k-pop boy group']                         | 1 |\n| 14 |  1 | Peaches (feat. Daniel Caesar &amp; Giveon)       | Justin Bieber  | 20294457 | 48504126.0 | 198082 | C     | ['canadian pop', 'pop', 'post-teen pop']             | 1 |\n| 15 |  2 | Butter                                       | BTS            | 19985713 | 37106176.0 | 164442 | G#/Ab | ['k-pop', 'k-pop boy group']                         | 1 |\n| 16 |  7 | traitor                                      | Olivia Rodrigo | 19480679 |  6266514.0 | 229227 | D#/Eb | ['pop']                                              | 1 |\n| 17 |  3 | deja vu                                      | Olivia Rodrigo | 18571755 |  6266514.0 | 215507 | D     | ['pop']                                              | 1 |\n| 18 |  5 | Save Your Tears (with Ariana Grande) (Remix) | The Weeknd     | 18053141 | 35305637.0 | 191014 | C     | ['canadian contemporary r&amp;b', 'canadian pop', 'pop'] | 1 |\n| 19 | 14 | AM Remix                                     | Nio Garcia     |  5872655 |   707911.3 | 261335 | F#/Gb | ['latin', 'reggaeton', 'trap latino']                | 3 |\n\n",
            "text/latex": "A tibble: 20 × 10\n\\begin{tabular}{llllllllll}\n index & highest\\_charting\\_position & song\\_name & artist & streams & followers & duration & chord & genre & num\\_artists\\\\\n <int> & <int> & <chr> & <chr> & <dbl> & <dbl> & <int> & <chr> & <chr> & <int>\\\\\n\\hline\n\t  1 &  1 & Beggin'                                      & Måneskin       & 48633449 &  3377762.0 & 211560 & B     & {[}'indie rock italiano', 'italian pop'{]}               & 1\\\\\n\t  2 &  2 & STAY (with Justin Bieber)                    & The Kid LAROI  & 47248719 &  2230022.0 & 141806 & C\\#/Db & {[}'australian hip hop'{]}                               & 1\\\\\n\t  3 &  1 & good 4 u                                     & Olivia Rodrigo & 40162559 &  6266514.0 & 178147 & A     & {[}'pop'{]}                                              & 1\\\\\n\t  4 &  3 & Bad Habits                                   & Ed Sheeran     & 37799456 & 83293380.0 & 231041 & B     & {[}'pop', 'uk pop'{]}                                    & 1\\\\\n\t  5 &  5 & INDUSTRY BABY (feat. Jack Harlow)            & Lil Nas X      & 33948454 &  5473565.0 & 212000 & D\\#/Eb & {[}'lgbtq+ hip hop', 'pop rap'{]}                        & 1\\\\\n\t  6 &  1 & MONTERO (Call Me By Your Name)               & Lil Nas X      & 30071134 &  5473565.0 & 137876 & G\\#/Ab & {[}'lgbtq+ hip hop', 'pop rap'{]}                        & 1\\\\\n\t  7 &  3 & Kiss Me More (feat. SZA)                     & Doja Cat       & 29356736 &  8640063.0 & 208867 & G\\#/Ab & {[}'dance pop', 'pop'{]}                                 & 1\\\\\n\t  8 &  2 & Todo De Ti                                   & Rauw Alejandro & 26951613 &  6080597.0 & 199604 & D\\#/Eb & {[}'puerto rican pop', 'trap latino'{]}                  & 1\\\\\n\t  9 &  3 & Yonaguni                                     & Bad Bunny      & 25030128 & 36142273.0 & 206710 & C\\#/Db & {[}'latin', 'reggaeton', 'trap latino'{]}                & 1\\\\\n\t 10 &  8 & I WANNA BE YOUR SLAVE                        & Måneskin       & 24551591 &  3377762.0 & 173347 & C\\#/Db & {[}'indie rock italiano', 'italian pop'{]}               & 1\\\\\n\t 11 &  4 & Levitating (feat. DaBaby)                    & Dua Lipa       & 23518010 & 27142474.0 & 203064 & F\\#/Gb & {[}'dance pop', 'pop', 'uk pop'{]}                       & 1\\\\\n\t 12 &  9 & Qué Más Pues?                                & J Balvin       & 11202556 & 14525681.5 & 217773 & G\\#/Ab & {[}'latin', 'reggaeton', 'reggaeton colombiano'{]}       & 2\\\\\n\t 12 &  9 & Qué Más Pues?                                & Maria Becerra  & 11202556 & 14525681.5 & 217773 & G\\#/Ab & {[}'latin', 'reggaeton', 'reggaeton colombiano'{]}       & 2\\\\\n\t 13 &  5 & Permission to Dance                          & BTS            & 22062812 & 37106176.0 & 187585 & A     & {[}'k-pop', 'k-pop boy group'{]}                         & 1\\\\\n\t 14 &  1 & Peaches (feat. Daniel Caesar \\& Giveon)       & Justin Bieber  & 20294457 & 48504126.0 & 198082 & C     & {[}'canadian pop', 'pop', 'post-teen pop'{]}             & 1\\\\\n\t 15 &  2 & Butter                                       & BTS            & 19985713 & 37106176.0 & 164442 & G\\#/Ab & {[}'k-pop', 'k-pop boy group'{]}                         & 1\\\\\n\t 16 &  7 & traitor                                      & Olivia Rodrigo & 19480679 &  6266514.0 & 229227 & D\\#/Eb & {[}'pop'{]}                                              & 1\\\\\n\t 17 &  3 & deja vu                                      & Olivia Rodrigo & 18571755 &  6266514.0 & 215507 & D     & {[}'pop'{]}                                              & 1\\\\\n\t 18 &  5 & Save Your Tears (with Ariana Grande) (Remix) & The Weeknd     & 18053141 & 35305637.0 & 191014 & C     & {[}'canadian contemporary r\\&b', 'canadian pop', 'pop'{]} & 1\\\\\n\t 19 & 14 & AM Remix                                     & Nio Garcia     &  5872655 &   707911.3 & 261335 & F\\#/Gb & {[}'latin', 'reggaeton', 'trap latino'{]}                & 3\\\\\n\\end{tabular}\n",
            "text/plain": [
              "   index highest_charting_position song_name                                   \n",
              "1   1     1                        Beggin'                                     \n",
              "2   2     2                        STAY (with Justin Bieber)                   \n",
              "3   3     1                        good 4 u                                    \n",
              "4   4     3                        Bad Habits                                  \n",
              "5   5     5                        INDUSTRY BABY (feat. Jack Harlow)           \n",
              "6   6     1                        MONTERO (Call Me By Your Name)              \n",
              "7   7     3                        Kiss Me More (feat. SZA)                    \n",
              "8   8     2                        Todo De Ti                                  \n",
              "9   9     3                        Yonaguni                                    \n",
              "10 10     8                        I WANNA BE YOUR SLAVE                       \n",
              "11 11     4                        Levitating (feat. DaBaby)                   \n",
              "12 12     9                        Qué Más Pues?                               \n",
              "13 12     9                        Qué Más Pues?                               \n",
              "14 13     5                        Permission to Dance                         \n",
              "15 14     1                        Peaches (feat. Daniel Caesar & Giveon)      \n",
              "16 15     2                        Butter                                      \n",
              "17 16     7                        traitor                                     \n",
              "18 17     3                        deja vu                                     \n",
              "19 18     5                        Save Your Tears (with Ariana Grande) (Remix)\n",
              "20 19    14                        AM Remix                                    \n",
              "   artist         streams  followers  duration chord\n",
              "1  Måneskin       48633449  3377762.0 211560   B    \n",
              "2  The Kid LAROI  47248719  2230022.0 141806   C#/Db\n",
              "3  Olivia Rodrigo 40162559  6266514.0 178147   A    \n",
              "4  Ed Sheeran     37799456 83293380.0 231041   B    \n",
              "5  Lil Nas X      33948454  5473565.0 212000   D#/Eb\n",
              "6  Lil Nas X      30071134  5473565.0 137876   G#/Ab\n",
              "7  Doja Cat       29356736  8640063.0 208867   G#/Ab\n",
              "8  Rauw Alejandro 26951613  6080597.0 199604   D#/Eb\n",
              "9  Bad Bunny      25030128 36142273.0 206710   C#/Db\n",
              "10 Måneskin       24551591  3377762.0 173347   C#/Db\n",
              "11 Dua Lipa       23518010 27142474.0 203064   F#/Gb\n",
              "12 J Balvin       11202556 14525681.5 217773   G#/Ab\n",
              "13 Maria Becerra  11202556 14525681.5 217773   G#/Ab\n",
              "14 BTS            22062812 37106176.0 187585   A    \n",
              "15 Justin Bieber  20294457 48504126.0 198082   C    \n",
              "16 BTS            19985713 37106176.0 164442   G#/Ab\n",
              "17 Olivia Rodrigo 19480679  6266514.0 229227   D#/Eb\n",
              "18 Olivia Rodrigo 18571755  6266514.0 215507   D    \n",
              "19 The Weeknd     18053141 35305637.0 191014   C    \n",
              "20 Nio Garcia      5872655   707911.3 261335   F#/Gb\n",
              "   genre                                                num_artists\n",
              "1  ['indie rock italiano', 'italian pop']               1          \n",
              "2  ['australian hip hop']                               1          \n",
              "3  ['pop']                                              1          \n",
              "4  ['pop', 'uk pop']                                    1          \n",
              "5  ['lgbtq+ hip hop', 'pop rap']                        1          \n",
              "6  ['lgbtq+ hip hop', 'pop rap']                        1          \n",
              "7  ['dance pop', 'pop']                                 1          \n",
              "8  ['puerto rican pop', 'trap latino']                  1          \n",
              "9  ['latin', 'reggaeton', 'trap latino']                1          \n",
              "10 ['indie rock italiano', 'italian pop']               1          \n",
              "11 ['dance pop', 'pop', 'uk pop']                       1          \n",
              "12 ['latin', 'reggaeton', 'reggaeton colombiano']       2          \n",
              "13 ['latin', 'reggaeton', 'reggaeton colombiano']       2          \n",
              "14 ['k-pop', 'k-pop boy group']                         1          \n",
              "15 ['canadian pop', 'pop', 'post-teen pop']             1          \n",
              "16 ['k-pop', 'k-pop boy group']                         1          \n",
              "17 ['pop']                                              1          \n",
              "18 ['pop']                                              1          \n",
              "19 ['canadian contemporary r&b', 'canadian pop', 'pop'] 1          \n",
              "20 ['latin', 'reggaeton', 'trap latino']                3          "
            ]
          },
          "metadata": {}
        },
        {
          "output_type": "display_data",
          "data": {
            "text/html": [
              "<table class=\"dataframe\">\n",
              "<caption>A tibble: 1 × 2</caption>\n",
              "<thead>\n",
              "\t<tr><th scope=col>song_name</th><th scope=col>num_artists</th></tr>\n",
              "\t<tr><th scope=col>&lt;chr&gt;</th><th scope=col>&lt;int&gt;</th></tr>\n",
              "</thead>\n",
              "<tbody>\n",
              "\t<tr><td>Bande organisée</td><td>9</td></tr>\n",
              "</tbody>\n",
              "</table>\n"
            ],
            "text/markdown": "\nA tibble: 1 × 2\n\n| song_name &lt;chr&gt; | num_artists &lt;int&gt; |\n|---|---|\n| Bande organisée | 9 |\n\n",
            "text/latex": "A tibble: 1 × 2\n\\begin{tabular}{ll}\n song\\_name & num\\_artists\\\\\n <chr> & <int>\\\\\n\\hline\n\t Bande organisée & 9\\\\\n\\end{tabular}\n",
            "text/plain": [
              "  song_name       num_artists\n",
              "1 Bande organisée 9          "
            ]
          },
          "metadata": {}
        }
      ]
    },
    {
      "cell_type": "code",
      "source": [
        "artist_summary <- df_music_expanded |>\n",
        "  group_by(artist) |>\n",
        "  summarise(\n",
        "    total_streams = sum(streams),\n",
        "    avg_followers = mean(followers)\n",
        "  ) |>\n",
        "  ungroup()\n",
        "\n",
        "# Most successful artist based on total streams\n",
        "top_artist_streams <- artist_summary |>\n",
        "  arrange(-total_streams) |>\n",
        "  slice(1)\n",
        "\n",
        "# Most successful artist based on average followers\n",
        "top_artist_followers <- artist_summary |>\n",
        "  arrange(-avg_followers) |>\n",
        "  slice(1)"
      ],
      "metadata": {
        "id": "FkJlc8VSz7pa"
      },
      "execution_count": 11,
      "outputs": []
    },
    {
      "cell_type": "code",
      "source": [
        "artist_streams_summary <- df_music_expanded |>\n",
        "  group_by(artist) |>\n",
        "  summarise(total_streams = sum(streams)) |>\n",
        "  ungroup() |>\n",
        "  arrange(-total_streams) |>\n",
        "  mutate(rank_streams = row_number())\n",
        "\n",
        "# 2. Calculate cumulative share of streams\n",
        "total_all_streams <- sum(artist_streams_summary$total_streams)\n",
        "artist_streams_summary <- artist_streams_summary |>\n",
        "  mutate(cum_share_streams = cumsum(total_streams) / total_all_streams)\n",
        "\n",
        "# 3. Extract percentage for top artists\n",
        "top_1_pct <- artist_streams_summary$cum_share_streams[1]\n",
        "top_10_pct <- artist_streams_summary$cum_share_streams[10]\n",
        "top_100_pct <- artist_streams_summary$cum_share_streams[100]\n",
        "top_500_pct <- ifelse(nrow(artist_streams_summary) >= 500, artist_streams_summary$cum_share_streams[500], NA)"
      ],
      "metadata": {
        "id": "iwWILyoy0hs9"
      },
      "execution_count": 12,
      "outputs": []
    },
    {
      "cell_type": "code",
      "source": [
        "p <- ggplot(artist_streams_summary, aes(x = rank_streams, y = cum_share_streams)) +\n",
        "  geom_line(color = \"blue\") +  # Lorenz curve (cumulative share)\n",
        "  geom_abline(intercept = 0, slope = 1, color = \"red\") +  # Line of equality\n",
        "  labs(title = \"Lorenz Curve for Streams Distribution\",\n",
        "       x = \"Artist Rank\",\n",
        "       y = \"Cumulative Share of Streams\") +\n",
        "  theme_minimal()\n",
        "\n",
        "print(p)"
      ],
      "metadata": {
        "colab": {
          "base_uri": "https://localhost:8080/",
          "height": 437
        },
        "id": "dz861-WT2M0N",
        "outputId": "f26f2dc5-3857-41d3-cb6e-4990d56386fb"
      },
      "execution_count": 14,
      "outputs": [
        {
          "output_type": "display_data",
          "data": {
            "text/plain": [
              "plot without title"
            ],
            "image/png": "[encoded data removed]"
          },
          "metadata": {
            "image/png": {
              "width": 420,
              "height": 420
            }
          }
        }
      ]
    },
    {
      "cell_type": "markdown",
      "source": [
        "The deviation from the red line indicates an inequality in the distribution of streams across artists."
      ],
      "metadata": {
        "id": "clBCVI9m2cyi"
      }
    },
    {
      "cell_type": "markdown",
      "source": [],
      "metadata": {
        "id": "CrC34rtL2luA"
      }
    },
    {
      "cell_type": "markdown",
      "source": [],
      "metadata": {
        "id": "5tml2DqvwANQ"
      }
    },
    {
      "cell_type": "markdown",
      "source": [
        "## 2.) Taylor's Version\n",
        "\n",
        "To be able to own her own music, Taylor Swift began rerecording her old six albums in 2020 as Taylor's Version ([Source](https://en.wikipedia.org/wiki/Taylor_Swift_masters_controversy)).\n",
        "\n",
        "\n",
        "* **Which version was more popular in our data? If you identify multiple metrics for popularity, show them all.**\n",
        "\n",
        "*Hint: Some characters can be very hard to distinguish with our eyes.*"
      ],
      "metadata": {
        "id": "k5CgcPMyh39u"
      }
    },
    {
      "cell_type": "markdown",
      "source": [
        "**Your Answer:**"
      ],
      "metadata": {
        "id": "QJ5NP4R4h7C7"
      }
    },
    {
      "cell_type": "code",
      "source": [
        "\n",
        "# Filter data for Taylor Swift songs\n",
        "taylor_songs <- df_music |>\n",
        "  filter(str_detect(artist, \"Taylor Swift\"))\n",
        "\n",
        "# Split the data into original and Taylor's Version songs\n",
        "original_songs <- taylor_songs |>\n",
        "  filter(!str_detect(song_name, \"Taylor’s Version\"))\n",
        "taylors_version_songs <- taylor_songs |>\n",
        "  filter(str_detect(song_name, \"Taylor’s Version\"))\n",
        "\n",
        "# Define popularity metrics and compare\n",
        "popularity_comparison <- data.frame(\n",
        "  Metric = c(\"Total Streams\", \"Highest Charting Position\", \"Average Followers\"),\n",
        "  Original = c(sum(original_songs$streams), mean(original_songs$highest_charting_position, na.rm = TRUE), mean(original_songs$followers, na.rm = TRUE)),\n",
        "  Taylors_Version = c(sum(taylors_version_songs$streams), mean(taylors_version_songs$highest_charting_position, na.rm = TRUE), mean(taylors_version_songs$followers, na.rm = TRUE))\n",
        ")\n",
        "\n",
        "print(popularity_comparison)\n"
      ],
      "metadata": {
        "id": "nwprdJkJiEzD",
        "colab": {
          "base_uri": "https://localhost:8080/"
        },
        "outputId": "518e889d-b7d9-446c-e384-7e89050a9d29"
      },
      "execution_count": 15,
      "outputs": [
        {
          "output_type": "stream",
          "name": "stdout",
          "text": [
            "                     Metric        Original Taylors_Version\n",
            "1             Total Streams 271425161.00000  110055294.0000\n",
            "2 Highest Charting Position        43.61111        100.3125\n",
            "3         Average Followers  42227614.00000   42227614.0000\n"
          ]
        }
      ]
    },
    {
      "cell_type": "markdown",
      "source": [],
      "metadata": {
        "id": "OJXdik9cRnEU"
      }
    },
    {
      "cell_type": "markdown",
      "source": [
        "## 3.) Are the Best Songs Easy to Play?\n",
        "\n",
        "From the few very basic piano lessons I took, I realized that songs that require more black keys tend to be harder to play. Here's the list of black keys required for each key/`chord`:\n",
        "\n",
        "- Easiest: C (no black keys)\n",
        "- G, F (1 black key)\n",
        "- D, A#/Bb (2 black keys)\n",
        "- A, D#/Eb (3 black keys)\n",
        "- E, G#/Ab (4 black keys)\n",
        "- B, C#/Db (5 black keys)\n",
        "- Hardest: F#/Gb (6 black keys)\n",
        "\n",
        "**Create the factor variable `num_black_keys` for these 7 levels of difficulty.**\n",
        "\n",
        "**Then create a more simple factor variable `difficulty`, which only contains 3 levels - easy, medium, and hard. Easy songs have at most 1 black, key, medium ones have at most 3 black keys, and anything above is hard.**\n",
        "\n",
        "**Which level of `difficulty` is most common among songs that ever made the top 10?**\n"
      ],
      "metadata": {
        "id": "xBcSeW_SHa5q"
      }
    },
    {
      "cell_type": "code",
      "source": [
        "# 1. Create the num_black_keys variable\n",
        "df_music <- df_music |>\n",
        "  mutate(\n",
        "    num_black_keys = case_when(\n",
        "      chord %in% c(\"C\") ~ \"0\",\n",
        "      chord %in% c(\"G\", \"F\") ~ \"1\",\n",
        "      chord %in% c(\"D\", \"A#/Bb\") ~ \"2\",\n",
        "      chord %in% c(\"A\", \"D#/Eb\") ~ \"3\",\n",
        "      chord %in% c(\"E\", \"G#/Ab\") ~ \"4\",\n",
        "      chord %in% c(\"B\", \"C#/Db\") ~ \"5\",\n",
        "      chord %in% c(\"F#/Gb\") ~ \"6\",\n",
        "      TRUE ~ NA_character_\n",
        "    )\n",
        "  )\n",
        "\n",
        "# Convert to ordered factor with levels from 0 to 6\n",
        "df_music$num_black_keys <- fct_inorder(df_music$num_black_keys)\n",
        "\n",
        "# 2. Create the difficulty factor variable\n",
        "df_music <- df_music |>\n",
        "  mutate(\n",
        "    difficulty = fct_recode(num_black_keys,\n",
        "      easy = \"0\",\n",
        "      easy = \"1\",\n",
        "      medium = \"2\",\n",
        "      medium = \"3\",\n",
        "      hard = \"4\",\n",
        "      hard = \"5\",\n",
        "      hard = \"6\"\n",
        "    )\n",
        "  )\n",
        "\n",
        "# 3. Filter songs that made it to the top 10 and count by difficulty level\n",
        "top_10_difficulty <- df_music |>\n",
        "  filter(highest_charting_position <= 10) |>\n",
        "  count(difficulty) |>\n",
        "  arrange(-n)\n",
        "\n",
        "print(top_10_difficulty)\n"
      ],
      "metadata": {
        "id": "7Sf8P3oDLMm1",
        "colab": {
          "base_uri": "https://localhost:8080/"
        },
        "outputId": "7921d4ab-cacc-4e72-c6ae-4deb12c83584"
      },
      "execution_count": 18,
      "outputs": [
        {
          "output_type": "stream",
          "name": "stdout",
          "text": [
            "  difficulty  n\n",
            "1       hard 71\n",
            "2       easy 32\n",
            "3     medium 29\n",
            "4       <NA>  1\n"
          ]
        }
      ]
    },
    {
      "cell_type": "code",
      "source": [
        "head(df_music,10)"
      ],
      "metadata": {
        "colab": {
          "base_uri": "https://localhost:8080/",
          "height": 551
        },
        "id": "kIkZKhwI52RI",
        "outputId": "6bfba4cf-4cd9-45fb-b5ef-ed1e2184758d"
      },
      "execution_count": 20,
      "outputs": [
        {
          "output_type": "display_data",
          "data": {
            "text/html": [
              "<table class=\"dataframe\">\n",
              "<caption>A data.frame: 10 × 11</caption>\n",
              "<thead>\n",
              "\t<tr><th></th><th scope=col>index</th><th scope=col>highest_charting_position</th><th scope=col>song_name</th><th scope=col>artist</th><th scope=col>streams</th><th scope=col>followers</th><th scope=col>duration</th><th scope=col>chord</th><th scope=col>genre</th><th scope=col>num_black_keys</th><th scope=col>difficulty</th></tr>\n",
              "\t<tr><th></th><th scope=col>&lt;int&gt;</th><th scope=col>&lt;int&gt;</th><th scope=col>&lt;chr&gt;</th><th scope=col>&lt;chr&gt;</th><th scope=col>&lt;dbl&gt;</th><th scope=col>&lt;int&gt;</th><th scope=col>&lt;int&gt;</th><th scope=col>&lt;chr&gt;</th><th scope=col>&lt;chr&gt;</th><th scope=col>&lt;fct&gt;</th><th scope=col>&lt;fct&gt;</th></tr>\n",
              "</thead>\n",
              "<tbody>\n",
              "\t<tr><th scope=row>1</th><td> 1</td><td>1</td><td>Beggin'                          </td><td>Måneskin      </td><td>48633449</td><td> 3377762</td><td>211560</td><td>B    </td><td>['indie rock italiano', 'italian pop']</td><td>5</td><td>hard  </td></tr>\n",
              "\t<tr><th scope=row>2</th><td> 2</td><td>2</td><td>STAY (with Justin Bieber)        </td><td>The Kid LAROI </td><td>47248719</td><td> 2230022</td><td>141806</td><td>C#/Db</td><td>['australian hip hop']                </td><td>5</td><td>hard  </td></tr>\n",
              "\t<tr><th scope=row>3</th><td> 3</td><td>1</td><td>good 4 u                         </td><td>Olivia Rodrigo</td><td>40162559</td><td> 6266514</td><td>178147</td><td>A    </td><td>['pop']                               </td><td>3</td><td>medium</td></tr>\n",
              "\t<tr><th scope=row>4</th><td> 4</td><td>3</td><td>Bad Habits                       </td><td>Ed Sheeran    </td><td>37799456</td><td>83293380</td><td>231041</td><td>B    </td><td>['pop', 'uk pop']                     </td><td>5</td><td>hard  </td></tr>\n",
              "\t<tr><th scope=row>5</th><td> 5</td><td>5</td><td>INDUSTRY BABY (feat. Jack Harlow)</td><td>Lil Nas X     </td><td>33948454</td><td> 5473565</td><td>212000</td><td>D#/Eb</td><td>['lgbtq+ hip hop', 'pop rap']         </td><td>3</td><td>medium</td></tr>\n",
              "\t<tr><th scope=row>6</th><td> 6</td><td>1</td><td>MONTERO (Call Me By Your Name)   </td><td>Lil Nas X     </td><td>30071134</td><td> 5473565</td><td>137876</td><td>G#/Ab</td><td>['lgbtq+ hip hop', 'pop rap']         </td><td>4</td><td>hard  </td></tr>\n",
              "\t<tr><th scope=row>7</th><td> 7</td><td>3</td><td>Kiss Me More (feat. SZA)         </td><td>Doja Cat      </td><td>29356736</td><td> 8640063</td><td>208867</td><td>G#/Ab</td><td>['dance pop', 'pop']                  </td><td>4</td><td>hard  </td></tr>\n",
              "\t<tr><th scope=row>8</th><td> 8</td><td>2</td><td>Todo De Ti                       </td><td>Rauw Alejandro</td><td>26951613</td><td> 6080597</td><td>199604</td><td>D#/Eb</td><td>['puerto rican pop', 'trap latino']   </td><td>3</td><td>medium</td></tr>\n",
              "\t<tr><th scope=row>9</th><td> 9</td><td>3</td><td>Yonaguni                         </td><td>Bad Bunny     </td><td>25030128</td><td>36142273</td><td>206710</td><td>C#/Db</td><td>['latin', 'reggaeton', 'trap latino'] </td><td>5</td><td>hard  </td></tr>\n",
              "\t<tr><th scope=row>10</th><td>10</td><td>8</td><td>I WANNA BE YOUR SLAVE            </td><td>Måneskin      </td><td>24551591</td><td> 3377762</td><td>173347</td><td>C#/Db</td><td>['indie rock italiano', 'italian pop']</td><td>5</td><td>hard  </td></tr>\n",
              "</tbody>\n",
              "</table>\n"
            ],
            "text/markdown": "\nA data.frame: 10 × 11\n\n| <!--/--> | index &lt;int&gt; | highest_charting_position &lt;int&gt; | song_name &lt;chr&gt; | artist &lt;chr&gt; | streams &lt;dbl&gt; | followers &lt;int&gt; | duration &lt;int&gt; | chord &lt;chr&gt; | genre &lt;chr&gt; | num_black_keys &lt;fct&gt; | difficulty &lt;fct&gt; |\n|---|---|---|---|---|---|---|---|---|---|---|---|\n| 1 |  1 | 1 | Beggin'                           | Måneskin       | 48633449 |  3377762 | 211560 | B     | ['indie rock italiano', 'italian pop'] | 5 | hard   |\n| 2 |  2 | 2 | STAY (with Justin Bieber)         | The Kid LAROI  | 47248719 |  2230022 | 141806 | C#/Db | ['australian hip hop']                 | 5 | hard   |\n| 3 |  3 | 1 | good 4 u                          | Olivia Rodrigo | 40162559 |  6266514 | 178147 | A     | ['pop']                                | 3 | medium |\n| 4 |  4 | 3 | Bad Habits                        | Ed Sheeran     | 37799456 | 83293380 | 231041 | B     | ['pop', 'uk pop']                      | 5 | hard   |\n| 5 |  5 | 5 | INDUSTRY BABY (feat. Jack Harlow) | Lil Nas X      | 33948454 |  5473565 | 212000 | D#/Eb | ['lgbtq+ hip hop', 'pop rap']          | 3 | medium |\n| 6 |  6 | 1 | MONTERO (Call Me By Your Name)    | Lil Nas X      | 30071134 |  5473565 | 137876 | G#/Ab | ['lgbtq+ hip hop', 'pop rap']          | 4 | hard   |\n| 7 |  7 | 3 | Kiss Me More (feat. SZA)          | Doja Cat       | 29356736 |  8640063 | 208867 | G#/Ab | ['dance pop', 'pop']                   | 4 | hard   |\n| 8 |  8 | 2 | Todo De Ti                        | Rauw Alejandro | 26951613 |  6080597 | 199604 | D#/Eb | ['puerto rican pop', 'trap latino']    | 3 | medium |\n| 9 |  9 | 3 | Yonaguni                          | Bad Bunny      | 25030128 | 36142273 | 206710 | C#/Db | ['latin', 'reggaeton', 'trap latino']  | 5 | hard   |\n| 10 | 10 | 8 | I WANNA BE YOUR SLAVE             | Måneskin       | 24551591 |  3377762 | 173347 | C#/Db | ['indie rock italiano', 'italian pop'] | 5 | hard   |\n\n",
            "text/latex": "A data.frame: 10 × 11\n\\begin{tabular}{r|lllllllllll}\n  & index & highest\\_charting\\_position & song\\_name & artist & streams & followers & duration & chord & genre & num\\_black\\_keys & difficulty\\\\\n  & <int> & <int> & <chr> & <chr> & <dbl> & <int> & <int> & <chr> & <chr> & <fct> & <fct>\\\\\n\\hline\n\t1 &  1 & 1 & Beggin'                           & Måneskin       & 48633449 &  3377762 & 211560 & B     & {[}'indie rock italiano', 'italian pop'{]} & 5 & hard  \\\\\n\t2 &  2 & 2 & STAY (with Justin Bieber)         & The Kid LAROI  & 47248719 &  2230022 & 141806 & C\\#/Db & {[}'australian hip hop'{]}                 & 5 & hard  \\\\\n\t3 &  3 & 1 & good 4 u                          & Olivia Rodrigo & 40162559 &  6266514 & 178147 & A     & {[}'pop'{]}                                & 3 & medium\\\\\n\t4 &  4 & 3 & Bad Habits                        & Ed Sheeran     & 37799456 & 83293380 & 231041 & B     & {[}'pop', 'uk pop'{]}                      & 5 & hard  \\\\\n\t5 &  5 & 5 & INDUSTRY BABY (feat. Jack Harlow) & Lil Nas X      & 33948454 &  5473565 & 212000 & D\\#/Eb & {[}'lgbtq+ hip hop', 'pop rap'{]}          & 3 & medium\\\\\n\t6 &  6 & 1 & MONTERO (Call Me By Your Name)    & Lil Nas X      & 30071134 &  5473565 & 137876 & G\\#/Ab & {[}'lgbtq+ hip hop', 'pop rap'{]}          & 4 & hard  \\\\\n\t7 &  7 & 3 & Kiss Me More (feat. SZA)          & Doja Cat       & 29356736 &  8640063 & 208867 & G\\#/Ab & {[}'dance pop', 'pop'{]}                   & 4 & hard  \\\\\n\t8 &  8 & 2 & Todo De Ti                        & Rauw Alejandro & 26951613 &  6080597 & 199604 & D\\#/Eb & {[}'puerto rican pop', 'trap latino'{]}    & 3 & medium\\\\\n\t9 &  9 & 3 & Yonaguni                          & Bad Bunny      & 25030128 & 36142273 & 206710 & C\\#/Db & {[}'latin', 'reggaeton', 'trap latino'{]}  & 5 & hard  \\\\\n\t10 & 10 & 8 & I WANNA BE YOUR SLAVE             & Måneskin       & 24551591 &  3377762 & 173347 & C\\#/Db & {[}'indie rock italiano', 'italian pop'{]} & 5 & hard  \\\\\n\\end{tabular}\n",
            "text/plain": [
              "   index highest_charting_position song_name                        \n",
              "1   1    1                         Beggin'                          \n",
              "2   2    2                         STAY (with Justin Bieber)        \n",
              "3   3    1                         good 4 u                         \n",
              "4   4    3                         Bad Habits                       \n",
              "5   5    5                         INDUSTRY BABY (feat. Jack Harlow)\n",
              "6   6    1                         MONTERO (Call Me By Your Name)   \n",
              "7   7    3                         Kiss Me More (feat. SZA)         \n",
              "8   8    2                         Todo De Ti                       \n",
              "9   9    3                         Yonaguni                         \n",
              "10 10    8                         I WANNA BE YOUR SLAVE            \n",
              "   artist         streams  followers duration chord\n",
              "1  Måneskin       48633449  3377762  211560   B    \n",
              "2  The Kid LAROI  47248719  2230022  141806   C#/Db\n",
              "3  Olivia Rodrigo 40162559  6266514  178147   A    \n",
              "4  Ed Sheeran     37799456 83293380  231041   B    \n",
              "5  Lil Nas X      33948454  5473565  212000   D#/Eb\n",
              "6  Lil Nas X      30071134  5473565  137876   G#/Ab\n",
              "7  Doja Cat       29356736  8640063  208867   G#/Ab\n",
              "8  Rauw Alejandro 26951613  6080597  199604   D#/Eb\n",
              "9  Bad Bunny      25030128 36142273  206710   C#/Db\n",
              "10 Måneskin       24551591  3377762  173347   C#/Db\n",
              "   genre                                  num_black_keys difficulty\n",
              "1  ['indie rock italiano', 'italian pop'] 5              hard      \n",
              "2  ['australian hip hop']                 5              hard      \n",
              "3  ['pop']                                3              medium    \n",
              "4  ['pop', 'uk pop']                      5              hard      \n",
              "5  ['lgbtq+ hip hop', 'pop rap']          3              medium    \n",
              "6  ['lgbtq+ hip hop', 'pop rap']          4              hard      \n",
              "7  ['dance pop', 'pop']                   4              hard      \n",
              "8  ['puerto rican pop', 'trap latino']    3              medium    \n",
              "9  ['latin', 'reggaeton', 'trap latino']  5              hard      \n",
              "10 ['indie rock italiano', 'italian pop'] 5              hard      "
            ]
          },
          "metadata": {}
        }
      ]
    },
    {
      "cell_type": "markdown",
      "source": [],
      "metadata": {
        "id": "KPi3zOlnwFjH"
      }
    },
    {
      "cell_type": "markdown",
      "source": [
        "## 4.) A Clean Game\n",
        "\n",
        "The `df_college` data contains every College Football game played since 2000.\n",
        "\n",
        "1. **First, let's understand the data:**\n",
        "\n",
        "  1.1. **Which single column *should* define an index? Why does it currently *not* define an index?**\n",
        "\n",
        "  1.2. **Remove potential duplicates and only keep one row per game. How many games are there in total?**\n",
        "\n",
        "2. **Second, let's clean the data:**\n",
        "\n",
        "  - **Turn the `Date` column from type character to type date.**\n",
        "\n",
        "  - **Create a `month` column that's equal to the unabbreviated month of the game's date (i.e. 'January', not 'Jan' or 1).**\n",
        "\n",
        "  - **Create a `day_of_week` column that contains the unabbreviated weekday of the game's date (i.e. Monday, not 'Mon' or 1).**\n",
        "\n",
        "  - **Create a factor (or categorical) `result_cat` column from the `Result` column. Order them, such that a Loss is the first factor.**\n",
        "\n",
        "  - **Create a binary (TRUE/FALSE) `is_bc_game` column that is TRUE if we (i.e. Boston College) played in the game.**\n",
        "\n",
        "  - **Create a (TRUE/FALSE/NA) `is_bc_win` column that is TRUE if the game was a Win for us, FALSE if the game was a Loss for us, and NA if it was neither.**\n"
      ],
      "metadata": {
        "id": "jYozMhopkMgb"
      }
    },
    {
      "cell_type": "markdown",
      "source": [
        "**Your Answer:**"
      ],
      "metadata": {
        "id": "hycxsBQNvHjl"
      }
    },
    {
      "cell_type": "code",
      "source": [
        "\n",
        "#1.1 The game_id variable should be the index; it is not because there are duplicates.\n",
        "\n",
        "# Remove duplicates based on Game_ID\n",
        "df_cleaned <- df_football |> distinct(Game_ID, .keep_all = TRUE)\n",
        "\n",
        "# Count the total number of games\n",
        "total_games <- nrow(df_cleaned)\n",
        "print(total_games)\n",
        "\n",
        "head(df_cleaned,2)"
      ],
      "metadata": {
        "id": "uVPo69Vojarc",
        "colab": {
          "base_uri": "https://localhost:8080/",
          "height": 196
        },
        "outputId": "04fdf072-f575-4063-c675-8b7b2f6096cb"
      },
      "execution_count": 30,
      "outputs": [
        {
          "output_type": "stream",
          "name": "stdout",
          "text": [
            "[1] 28536\n"
          ]
        },
        {
          "output_type": "display_data",
          "data": {
            "text/html": [
              "<table class=\"dataframe\">\n",
              "<caption>A data.frame: 2 × 15</caption>\n",
              "<thead>\n",
              "\t<tr><th></th><th scope=col>Date</th><th scope=col>Season</th><th scope=col>Team</th><th scope=col>Opponent</th><th scope=col>Result</th><th scope=col>Points_For</th><th scope=col>Points_Against</th><th scope=col>Spread</th><th scope=col>Played</th><th scope=col>Home</th><th scope=col>Neutral_Location</th><th scope=col>OT</th><th scope=col>Team_FBS</th><th scope=col>Opp_FBS</th><th scope=col>Game_ID</th></tr>\n",
              "\t<tr><th></th><th scope=col>&lt;chr&gt;</th><th scope=col>&lt;int&gt;</th><th scope=col>&lt;chr&gt;</th><th scope=col>&lt;chr&gt;</th><th scope=col>&lt;chr&gt;</th><th scope=col>&lt;int&gt;</th><th scope=col>&lt;int&gt;</th><th scope=col>&lt;int&gt;</th><th scope=col>&lt;lgl&gt;</th><th scope=col>&lt;int&gt;</th><th scope=col>&lt;lgl&gt;</th><th scope=col>&lt;lgl&gt;</th><th scope=col>&lt;int&gt;</th><th scope=col>&lt;int&gt;</th><th scope=col>&lt;int&gt;</th></tr>\n",
              "</thead>\n",
              "<tbody>\n",
              "\t<tr><th scope=row>1</th><td>3/28/2021</td><td>2020</td><td>Tennessee State </td><td>Tennessee-Martin</td><td>W</td><td>26</td><td>24</td><td>  2</td><td>TRUE</td><td>1</td><td>FALSE</td><td>FALSE</td><td>0</td><td>0</td><td>401279119</td></tr>\n",
              "\t<tr><th scope=row>2</th><td>3/28/2021</td><td>2020</td><td>Eastern Illinois</td><td>Murray State    </td><td>L</td><td>27</td><td>41</td><td>-14</td><td>TRUE</td><td>0</td><td>FALSE</td><td>FALSE</td><td>0</td><td>0</td><td>401279120</td></tr>\n",
              "</tbody>\n",
              "</table>\n"
            ],
            "text/markdown": "\nA data.frame: 2 × 15\n\n| <!--/--> | Date &lt;chr&gt; | Season &lt;int&gt; | Team &lt;chr&gt; | Opponent &lt;chr&gt; | Result &lt;chr&gt; | Points_For &lt;int&gt; | Points_Against &lt;int&gt; | Spread &lt;int&gt; | Played &lt;lgl&gt; | Home &lt;int&gt; | Neutral_Location &lt;lgl&gt; | OT &lt;lgl&gt; | Team_FBS &lt;int&gt; | Opp_FBS &lt;int&gt; | Game_ID &lt;int&gt; |\n|---|---|---|---|---|---|---|---|---|---|---|---|---|---|---|---|\n| 1 | 3/28/2021 | 2020 | Tennessee State  | Tennessee-Martin | W | 26 | 24 |   2 | TRUE | 1 | FALSE | FALSE | 0 | 0 | 401279119 |\n| 2 | 3/28/2021 | 2020 | Eastern Illinois | Murray State     | L | 27 | 41 | -14 | TRUE | 0 | FALSE | FALSE | 0 | 0 | 401279120 |\n\n",
            "text/latex": "A data.frame: 2 × 15\n\\begin{tabular}{r|lllllllllllllll}\n  & Date & Season & Team & Opponent & Result & Points\\_For & Points\\_Against & Spread & Played & Home & Neutral\\_Location & OT & Team\\_FBS & Opp\\_FBS & Game\\_ID\\\\\n  & <chr> & <int> & <chr> & <chr> & <chr> & <int> & <int> & <int> & <lgl> & <int> & <lgl> & <lgl> & <int> & <int> & <int>\\\\\n\\hline\n\t1 & 3/28/2021 & 2020 & Tennessee State  & Tennessee-Martin & W & 26 & 24 &   2 & TRUE & 1 & FALSE & FALSE & 0 & 0 & 401279119\\\\\n\t2 & 3/28/2021 & 2020 & Eastern Illinois & Murray State     & L & 27 & 41 & -14 & TRUE & 0 & FALSE & FALSE & 0 & 0 & 401279120\\\\\n\\end{tabular}\n",
            "text/plain": [
              "  Date      Season Team             Opponent         Result Points_For\n",
              "1 3/28/2021 2020   Tennessee State  Tennessee-Martin W      26        \n",
              "2 3/28/2021 2020   Eastern Illinois Murray State     L      27        \n",
              "  Points_Against Spread Played Home Neutral_Location OT    Team_FBS Opp_FBS\n",
              "1 24               2    TRUE   1    FALSE            FALSE 0        0      \n",
              "2 41             -14    TRUE   0    FALSE            FALSE 0        0      \n",
              "  Game_ID  \n",
              "1 401279119\n",
              "2 401279120"
            ]
          },
          "metadata": {}
        }
      ]
    },
    {
      "cell_type": "code",
      "source": [
        "# 1. Convert Date column to type date\n",
        "df_cleaned$Date <- as.Date(df_cleaned$Date, format = \"%m/%d/%Y\")  # Adjust the format based on your date format if necessary\n",
        "\n",
        "# 2. Create month column\n",
        "df_cleaned$month <- month(df_cleaned$Date, label = TRUE, abbr = FALSE)\n",
        "\n",
        "# 3. Create day_of_week column\n",
        "df_cleaned$day_of_week <- weekdays(df_cleaned$Date)\n",
        "\n",
        "# 4. Create result_cat factor column with Loss as the first factor\n",
        "df_cleaned$result_cat <- factor(df_cleaned$Result, levels = c(\"Loss\", \"Win\", \"Tie\"))  # Adjust levels if there are more categories in Result\n",
        "\n",
        "# 5. Create is_bc_game binary column\n",
        "df_cleaned$is_bc_game <- df_cleaned$Team == \"Boston College\" | df_cleaned$Opponent == \"Boston College\"\n",
        "\n",
        "# 6. Create is_bc_win column\n",
        "df_cleaned$is_bc_win <- case_when(\n",
        "  df_cleaned$is_bc_game & df_cleaned$Result == \"Win\" ~ TRUE,\n",
        "  df_cleaned$is_bc_game & df_cleaned$Result == \"Loss\" ~ FALSE,\n",
        "  TRUE ~ NA_real_\n",
        ")\n",
        "df_cleaned$is_bc_win <- as.logical(df_cleaned$is_bc_win)\n",
        "\n",
        "head(df_cleaned, 2)\n"
      ],
      "metadata": {
        "colab": {
          "base_uri": "https://localhost:8080/",
          "height": 216
        },
        "id": "g7qpQYOG9inU",
        "outputId": "c3013f5a-9e3a-4c40-ba06-d2595def1b91"
      },
      "execution_count": 32,
      "outputs": [
        {
          "output_type": "display_data",
          "data": {
            "text/html": [
              "<table class=\"dataframe\">\n",
              "<caption>A data.frame: 2 × 20</caption>\n",
              "<thead>\n",
              "\t<tr><th></th><th scope=col>Date</th><th scope=col>Season</th><th scope=col>Team</th><th scope=col>Opponent</th><th scope=col>Result</th><th scope=col>Points_For</th><th scope=col>Points_Against</th><th scope=col>Spread</th><th scope=col>Played</th><th scope=col>Home</th><th scope=col>Neutral_Location</th><th scope=col>OT</th><th scope=col>Team_FBS</th><th scope=col>Opp_FBS</th><th scope=col>Game_ID</th><th scope=col>month</th><th scope=col>day_of_week</th><th scope=col>result_cat</th><th scope=col>is_bc_game</th><th scope=col>is_bc_win</th></tr>\n",
              "\t<tr><th></th><th scope=col>&lt;date&gt;</th><th scope=col>&lt;int&gt;</th><th scope=col>&lt;chr&gt;</th><th scope=col>&lt;chr&gt;</th><th scope=col>&lt;chr&gt;</th><th scope=col>&lt;int&gt;</th><th scope=col>&lt;int&gt;</th><th scope=col>&lt;int&gt;</th><th scope=col>&lt;lgl&gt;</th><th scope=col>&lt;int&gt;</th><th scope=col>&lt;lgl&gt;</th><th scope=col>&lt;lgl&gt;</th><th scope=col>&lt;int&gt;</th><th scope=col>&lt;int&gt;</th><th scope=col>&lt;int&gt;</th><th scope=col>&lt;ord&gt;</th><th scope=col>&lt;chr&gt;</th><th scope=col>&lt;fct&gt;</th><th scope=col>&lt;lgl&gt;</th><th scope=col>&lt;lgl&gt;</th></tr>\n",
              "</thead>\n",
              "<tbody>\n",
              "\t<tr><th scope=row>1</th><td>2021-03-28</td><td>2020</td><td>Tennessee State </td><td>Tennessee-Martin</td><td>W</td><td>26</td><td>24</td><td>  2</td><td>TRUE</td><td>1</td><td>FALSE</td><td>FALSE</td><td>0</td><td>0</td><td>401279119</td><td>March</td><td>Sunday</td><td>NA</td><td>FALSE</td><td>NA</td></tr>\n",
              "\t<tr><th scope=row>2</th><td>2021-03-28</td><td>2020</td><td>Eastern Illinois</td><td>Murray State    </td><td>L</td><td>27</td><td>41</td><td>-14</td><td>TRUE</td><td>0</td><td>FALSE</td><td>FALSE</td><td>0</td><td>0</td><td>401279120</td><td>March</td><td>Sunday</td><td>NA</td><td>FALSE</td><td>NA</td></tr>\n",
              "</tbody>\n",
              "</table>\n"
            ],
            "text/markdown": "\nA data.frame: 2 × 20\n\n| <!--/--> | Date &lt;date&gt; | Season &lt;int&gt; | Team &lt;chr&gt; | Opponent &lt;chr&gt; | Result &lt;chr&gt; | Points_For &lt;int&gt; | Points_Against &lt;int&gt; | Spread &lt;int&gt; | Played &lt;lgl&gt; | Home &lt;int&gt; | Neutral_Location &lt;lgl&gt; | OT &lt;lgl&gt; | Team_FBS &lt;int&gt; | Opp_FBS &lt;int&gt; | Game_ID &lt;int&gt; | month &lt;ord&gt; | day_of_week &lt;chr&gt; | result_cat &lt;fct&gt; | is_bc_game &lt;lgl&gt; | is_bc_win &lt;lgl&gt; |\n|---|---|---|---|---|---|---|---|---|---|---|---|---|---|---|---|---|---|---|---|---|\n| 1 | 2021-03-28 | 2020 | Tennessee State  | Tennessee-Martin | W | 26 | 24 |   2 | TRUE | 1 | FALSE | FALSE | 0 | 0 | 401279119 | March | Sunday | NA | FALSE | NA |\n| 2 | 2021-03-28 | 2020 | Eastern Illinois | Murray State     | L | 27 | 41 | -14 | TRUE | 0 | FALSE | FALSE | 0 | 0 | 401279120 | March | Sunday | NA | FALSE | NA |\n\n",
            "text/latex": "A data.frame: 2 × 20\n\\begin{tabular}{r|llllllllllllllllllll}\n  & Date & Season & Team & Opponent & Result & Points\\_For & Points\\_Against & Spread & Played & Home & Neutral\\_Location & OT & Team\\_FBS & Opp\\_FBS & Game\\_ID & month & day\\_of\\_week & result\\_cat & is\\_bc\\_game & is\\_bc\\_win\\\\\n  & <date> & <int> & <chr> & <chr> & <chr> & <int> & <int> & <int> & <lgl> & <int> & <lgl> & <lgl> & <int> & <int> & <int> & <ord> & <chr> & <fct> & <lgl> & <lgl>\\\\\n\\hline\n\t1 & 2021-03-28 & 2020 & Tennessee State  & Tennessee-Martin & W & 26 & 24 &   2 & TRUE & 1 & FALSE & FALSE & 0 & 0 & 401279119 & March & Sunday & NA & FALSE & NA\\\\\n\t2 & 2021-03-28 & 2020 & Eastern Illinois & Murray State     & L & 27 & 41 & -14 & TRUE & 0 & FALSE & FALSE & 0 & 0 & 401279120 & March & Sunday & NA & FALSE & NA\\\\\n\\end{tabular}\n",
            "text/plain": [
              "  Date       Season Team             Opponent         Result Points_For\n",
              "1 2021-03-28 2020   Tennessee State  Tennessee-Martin W      26        \n",
              "2 2021-03-28 2020   Eastern Illinois Murray State     L      27        \n",
              "  Points_Against Spread Played Home Neutral_Location OT    Team_FBS Opp_FBS\n",
              "1 24               2    TRUE   1    FALSE            FALSE 0        0      \n",
              "2 41             -14    TRUE   0    FALSE            FALSE 0        0      \n",
              "  Game_ID   month day_of_week result_cat is_bc_game is_bc_win\n",
              "1 401279119 March Sunday      NA         FALSE      NA       \n",
              "2 401279120 March Sunday      NA         FALSE      NA       "
            ]
          },
          "metadata": {}
        }
      ]
    },
    {
      "cell_type": "markdown",
      "source": [],
      "metadata": {
        "id": "Vf-pvDnQizG6"
      }
    },
    {
      "cell_type": "markdown",
      "source": [
        "## 5.) College Football Facts\n",
        "\n"
      ],
      "metadata": {
        "id": "Ze1p6vQ4CvCw"
      }
    },
    {
      "cell_type": "markdown",
      "source": [
        "Now Let's answer some questions:\n",
        "\n",
        "1. **Which game had the highest `Spread`? Who lost against whom?**\n",
        "\n",
        "2. **Which tied game had the highest number of points?**\n",
        "\n",
        "3. **How many games did we (Boston College) play? What's our win percentage?**\n",
        "\n",
        "4. **In which month of the year do we have the worst win percentage (you can ignore months that had fewer than 5 games in total)?**"
      ],
      "metadata": {
        "id": "ZIlIaHBcjAMy"
      }
    },
    {
      "cell_type": "markdown",
      "source": [
        "**Your Answer:**"
      ],
      "metadata": {
        "id": "G-gTk-DqjC55"
      }
    },
    {
      "cell_type": "code",
      "source": [
        "# 1. Game with the highest Spread\n",
        "highest_spread_game <- df_cleaned %>%\n",
        "  arrange(desc(Spread)) %>%\n",
        "  slice(1)\n",
        "\n",
        "# 2. Tied game with the highest number of points\n",
        "highest_tied_game <- df_cleaned %>%\n",
        "  filter(Result == \"Tie\") %>%\n",
        "  arrange(desc(Points_For + Points_Against)) %>%\n",
        "  slice(1)\n",
        "\n",
        "# 3. Number of games BC played and win percentage\n",
        "bc_games <- df_cleaned %>%\n",
        "  filter(is_bc_game)\n",
        "\n",
        "total_games <- nrow(bc_games)\n",
        "wins <- sum(bc_games$Result == \"Win\", na.rm = TRUE)\n",
        "win_percentage <- (wins / total_games) * 100\n",
        "\n",
        "# 4. Month with the worst win percentage (ignoring months with fewer than 5 games)\n",
        "monthly_win_rate <- bc_games %>%\n",
        "  group_by(Month = month(Date, label = TRUE, abbr = FALSE)) %>%\n",
        "  summarise(\n",
        "    Total_Games = n(),\n",
        "    Wins = sum(Result == \"Win\", na.rm = TRUE),\n",
        "    Win_Percentage = (Wins / Total_Games) * 100\n",
        "  ) %>%\n",
        "  filter(Total_Games >= 5) %>%\n",
        "  arrange(Win_Percentage) %>%\n",
        "  slice(1)\n",
        "\n",
        "# Display results\n",
        "list(Highest_Spread_Game = highest_spread_game,\n",
        "     Highest_Tied_Game = highest_tied_game,\n",
        "     BC_Total_Games = total_games,\n",
        "     BC_Win_Percentage = win_percentage,\n",
        "     Worst_Monthly_Win_Rate = monthly_win_rate)\n"
      ],
      "metadata": {
        "id": "mEgnVUBrjCKC",
        "colab": {
          "base_uri": "https://localhost:8080/",
          "height": 510
        },
        "outputId": "30c2db4c-3acc-4833-8f65-1c42d9504c7c"
      },
      "execution_count": 36,
      "outputs": [
        {
          "output_type": "display_data",
          "data": {
            "text/html": [
              "<dl>\n",
              "\t<dt>$Highest_Spread_Game</dt>\n",
              "\t\t<dd><table class=\"dataframe\">\n",
              "<caption>A data.frame: 1 × 20</caption>\n",
              "<thead>\n",
              "\t<tr><th scope=col>Date</th><th scope=col>Season</th><th scope=col>Team</th><th scope=col>Opponent</th><th scope=col>Result</th><th scope=col>Points_For</th><th scope=col>Points_Against</th><th scope=col>Spread</th><th scope=col>Played</th><th scope=col>Home</th><th scope=col>Neutral_Location</th><th scope=col>OT</th><th scope=col>Team_FBS</th><th scope=col>Opp_FBS</th><th scope=col>Game_ID</th><th scope=col>month</th><th scope=col>day_of_week</th><th scope=col>result_cat</th><th scope=col>is_bc_game</th><th scope=col>is_bc_win</th></tr>\n",
              "\t<tr><th scope=col>&lt;date&gt;</th><th scope=col>&lt;int&gt;</th><th scope=col>&lt;chr&gt;</th><th scope=col>&lt;chr&gt;</th><th scope=col>&lt;chr&gt;</th><th scope=col>&lt;int&gt;</th><th scope=col>&lt;int&gt;</th><th scope=col>&lt;int&gt;</th><th scope=col>&lt;lgl&gt;</th><th scope=col>&lt;int&gt;</th><th scope=col>&lt;lgl&gt;</th><th scope=col>&lt;lgl&gt;</th><th scope=col>&lt;int&gt;</th><th scope=col>&lt;int&gt;</th><th scope=col>&lt;int&gt;</th><th scope=col>&lt;ord&gt;</th><th scope=col>&lt;chr&gt;</th><th scope=col>&lt;fct&gt;</th><th scope=col>&lt;lgl&gt;</th><th scope=col>&lt;lgl&gt;</th></tr>\n",
              "</thead>\n",
              "<tbody>\n",
              "\t<tr><td>2000-09-02</td><td>2000</td><td>Troy</td><td>Alabama A&amp;M</td><td>W</td><td>128</td><td>13</td><td>115</td><td>TRUE</td><td>0</td><td>FALSE</td><td>FALSE</td><td>1</td><td>0</td><td>202462010</td><td>September</td><td>Saturday</td><td>NA</td><td>FALSE</td><td>NA</td></tr>\n",
              "</tbody>\n",
              "</table>\n",
              "</dd>\n",
              "\t<dt>$Highest_Tied_Game</dt>\n",
              "\t\t<dd><table class=\"dataframe\">\n",
              "<caption>A data.frame: 0 × 20</caption>\n",
              "<thead>\n",
              "\t<tr><th scope=col>Date</th><th scope=col>Season</th><th scope=col>Team</th><th scope=col>Opponent</th><th scope=col>Result</th><th scope=col>Points_For</th><th scope=col>Points_Against</th><th scope=col>Spread</th><th scope=col>Played</th><th scope=col>Home</th><th scope=col>Neutral_Location</th><th scope=col>OT</th><th scope=col>Team_FBS</th><th scope=col>Opp_FBS</th><th scope=col>Game_ID</th><th scope=col>month</th><th scope=col>day_of_week</th><th scope=col>result_cat</th><th scope=col>is_bc_game</th><th scope=col>is_bc_win</th></tr>\n",
              "\t<tr><th scope=col>&lt;date&gt;</th><th scope=col>&lt;int&gt;</th><th scope=col>&lt;chr&gt;</th><th scope=col>&lt;chr&gt;</th><th scope=col>&lt;chr&gt;</th><th scope=col>&lt;int&gt;</th><th scope=col>&lt;int&gt;</th><th scope=col>&lt;int&gt;</th><th scope=col>&lt;lgl&gt;</th><th scope=col>&lt;int&gt;</th><th scope=col>&lt;lgl&gt;</th><th scope=col>&lt;lgl&gt;</th><th scope=col>&lt;int&gt;</th><th scope=col>&lt;int&gt;</th><th scope=col>&lt;int&gt;</th><th scope=col>&lt;ord&gt;</th><th scope=col>&lt;chr&gt;</th><th scope=col>&lt;fct&gt;</th><th scope=col>&lt;lgl&gt;</th><th scope=col>&lt;lgl&gt;</th></tr>\n",
              "</thead>\n",
              "<tbody>\n",
              "</tbody>\n",
              "</table>\n",
              "</dd>\n",
              "\t<dt>$BC_Total_Games</dt>\n",
              "\t\t<dd>265</dd>\n",
              "\t<dt>$BC_Win_Percentage</dt>\n",
              "\t\t<dd>0</dd>\n",
              "\t<dt>$Worst_Monthly_Win_Rate</dt>\n",
              "\t\t<dd><table class=\"dataframe\">\n",
              "<caption>A tibble: 1 × 4</caption>\n",
              "<thead>\n",
              "\t<tr><th scope=col>Month</th><th scope=col>Total_Games</th><th scope=col>Wins</th><th scope=col>Win_Percentage</th></tr>\n",
              "\t<tr><th scope=col>&lt;ord&gt;</th><th scope=col>&lt;int&gt;</th><th scope=col>&lt;int&gt;</th><th scope=col>&lt;dbl&gt;</th></tr>\n",
              "</thead>\n",
              "<tbody>\n",
              "\t<tr><td>August</td><td>7</td><td>0</td><td>0</td></tr>\n",
              "</tbody>\n",
              "</table>\n",
              "</dd>\n",
              "</dl>\n"
            ],
            "text/markdown": "$Highest_Spread_Game\n:   \nA data.frame: 1 × 20\n\n| Date &lt;date&gt; | Season &lt;int&gt; | Team &lt;chr&gt; | Opponent &lt;chr&gt; | Result &lt;chr&gt; | Points_For &lt;int&gt; | Points_Against &lt;int&gt; | Spread &lt;int&gt; | Played &lt;lgl&gt; | Home &lt;int&gt; | Neutral_Location &lt;lgl&gt; | OT &lt;lgl&gt; | Team_FBS &lt;int&gt; | Opp_FBS &lt;int&gt; | Game_ID &lt;int&gt; | month &lt;ord&gt; | day_of_week &lt;chr&gt; | result_cat &lt;fct&gt; | is_bc_game &lt;lgl&gt; | is_bc_win &lt;lgl&gt; |\n|---|---|---|---|---|---|---|---|---|---|---|---|---|---|---|---|---|---|---|---|\n| 2000-09-02 | 2000 | Troy | Alabama A&amp;M | W | 128 | 13 | 115 | TRUE | 0 | FALSE | FALSE | 1 | 0 | 202462010 | September | Saturday | NA | FALSE | NA |\n\n\n$Highest_Tied_Game\n:   \nA data.frame: 0 × 20\n\n| Date &lt;date&gt; | Season &lt;int&gt; | Team &lt;chr&gt; | Opponent &lt;chr&gt; | Result &lt;chr&gt; | Points_For &lt;int&gt; | Points_Against &lt;int&gt; | Spread &lt;int&gt; | Played &lt;lgl&gt; | Home &lt;int&gt; | Neutral_Location &lt;lgl&gt; | OT &lt;lgl&gt; | Team_FBS &lt;int&gt; | Opp_FBS &lt;int&gt; | Game_ID &lt;int&gt; | month &lt;ord&gt; | day_of_week &lt;chr&gt; | result_cat &lt;fct&gt; | is_bc_game &lt;lgl&gt; | is_bc_win &lt;lgl&gt; |\n|---|---|---|---|---|---|---|---|---|---|---|---|---|---|---|---|---|---|---|---|\n\n\n$BC_Total_Games\n:   265\n$BC_Win_Percentage\n:   0\n$Worst_Monthly_Win_Rate\n:   \nA tibble: 1 × 4\n\n| Month &lt;ord&gt; | Total_Games &lt;int&gt; | Wins &lt;int&gt; | Win_Percentage &lt;dbl&gt; |\n|---|---|---|---|\n| August | 7 | 0 | 0 |\n\n\n\n\n",
            "text/latex": "\\begin{description}\n\\item[\\$Highest\\_Spread\\_Game] A data.frame: 1 × 20\n\\begin{tabular}{llllllllllllllllllll}\n Date & Season & Team & Opponent & Result & Points\\_For & Points\\_Against & Spread & Played & Home & Neutral\\_Location & OT & Team\\_FBS & Opp\\_FBS & Game\\_ID & month & day\\_of\\_week & result\\_cat & is\\_bc\\_game & is\\_bc\\_win\\\\\n <date> & <int> & <chr> & <chr> & <chr> & <int> & <int> & <int> & <lgl> & <int> & <lgl> & <lgl> & <int> & <int> & <int> & <ord> & <chr> & <fct> & <lgl> & <lgl>\\\\\n\\hline\n\t 2000-09-02 & 2000 & Troy & Alabama A\\&M & W & 128 & 13 & 115 & TRUE & 0 & FALSE & FALSE & 1 & 0 & 202462010 & September & Saturday & NA & FALSE & NA\\\\\n\\end{tabular}\n\n\\item[\\$Highest\\_Tied\\_Game] A data.frame: 0 × 20\n\\begin{tabular}{llllllllllllllllllll}\n Date & Season & Team & Opponent & Result & Points\\_For & Points\\_Against & Spread & Played & Home & Neutral\\_Location & OT & Team\\_FBS & Opp\\_FBS & Game\\_ID & month & day\\_of\\_week & result\\_cat & is\\_bc\\_game & is\\_bc\\_win\\\\\n <date> & <int> & <chr> & <chr> & <chr> & <int> & <int> & <int> & <lgl> & <int> & <lgl> & <lgl> & <int> & <int> & <int> & <ord> & <chr> & <fct> & <lgl> & <lgl>\\\\\n\\hline\n\\end{tabular}\n\n\\item[\\$BC\\_Total\\_Games] 265\n\\item[\\$BC\\_Win\\_Percentage] 0\n\\item[\\$Worst\\_Monthly\\_Win\\_Rate] A tibble: 1 × 4\n\\begin{tabular}{llll}\n Month & Total\\_Games & Wins & Win\\_Percentage\\\\\n <ord> & <int> & <int> & <dbl>\\\\\n\\hline\n\t August & 7 & 0 & 0\\\\\n\\end{tabular}\n\n\\end{description}\n",
            "text/plain": [
              "$Highest_Spread_Game\n",
              "        Date Season Team    Opponent Result Points_For Points_Against Spread\n",
              "1 2000-09-02   2000 Troy Alabama A&M      W        128             13    115\n",
              "  Played Home Neutral_Location    OT Team_FBS Opp_FBS   Game_ID     month\n",
              "1   TRUE    0            FALSE FALSE        1       0 202462010 September\n",
              "  day_of_week result_cat is_bc_game is_bc_win\n",
              "1    Saturday       <NA>      FALSE        NA\n",
              "\n",
              "$Highest_Tied_Game\n",
              " [1] Date             Season           Team             Opponent        \n",
              " [5] Result           Points_For       Points_Against   Spread          \n",
              " [9] Played           Home             Neutral_Location OT              \n",
              "[13] Team_FBS         Opp_FBS          Game_ID          month           \n",
              "[17] day_of_week      result_cat       is_bc_game       is_bc_win       \n",
              "<0 rows> (or 0-length row.names)\n",
              "\n",
              "$BC_Total_Games\n",
              "[1] 265\n",
              "\n",
              "$BC_Win_Percentage\n",
              "[1] 0\n",
              "\n",
              "$Worst_Monthly_Win_Rate\n",
              "\u001b[90m# A tibble: 1 × 4\u001b[39m\n",
              "  Month  Total_Games  Wins Win_Percentage\n",
              "  \u001b[3m\u001b[90m<ord>\u001b[39m\u001b[23m        \u001b[3m\u001b[90m<int>\u001b[39m\u001b[23m \u001b[3m\u001b[90m<int>\u001b[39m\u001b[23m          \u001b[3m\u001b[90m<dbl>\u001b[39m\u001b[23m\n",
              "\u001b[90m1\u001b[39m August           7     0              0\n"
            ]
          },
          "metadata": {}
        }
      ]
    },
    {
      "cell_type": "markdown",
      "source": [],
      "metadata": {
        "id": "kls5YsgiHDUk"
      }
    },
    {
      "cell_type": "markdown",
      "source": [
        "## 6.) College Football in Motion\n",
        "\n",
        "\n",
        "Let's pivot and then plot some data:\n",
        "\n",
        "- **Create a dataset that contains the column `Season`, and the number of games played (`num_games`), won (`num_win`), and lost (`num_loss`) by BC.**\n",
        "\n",
        "- **Now pivot this data to contain just the columns `Season`, `variable` (taking the values: `num_games`, `num_win`, and `num_loss`), and `value` (taking the corresponding values for how many times we played, won, and lost in that season).**\n",
        "\n",
        "- **Make a bar plot that shows our number of games, wins, and losses on the y axis and the season on the x axis.**\n",
        "\n",
        "- **Make the plot look nice by changing at least 5 things (i.e. add a title, add a theme, change axis labels, ...).**\n",
        "\n",
        "\n",
        "  \n",
        "\n",
        "- OPTIONAL: (So far, the following only works if you run it in RStudio.)\n",
        "  - Once the plot works, store it as `plot1`. Then run the code below. It should create an animated gif of your plot, which slowly reveals BC's performance in each season.\n",
        "\n",
        "\n",
        " ```\n",
        " install.packages(c(\"gganimate\", \"gifski\"))\n",
        " gif1 <- plot1 + transition_states(Season) + shadow_mark(alpha = 0.3, size = 0.5)\n",
        " gif1\n",
        " ```"
      ],
      "metadata": {
        "id": "zgmzKNJhK7Yq"
      }
    },
    {
      "cell_type": "markdown",
      "source": [
        "**Your Answer:**"
      ],
      "metadata": {
        "id": "6FytpCkLEOhK"
      }
    },
    {
      "cell_type": "code",
      "source": [
        "# 1. Create the dataset\n",
        "bc_stats <- df_cleaned %>%\n",
        "  filter(is_bc_game) %>%\n",
        "  group_by(Season) %>%\n",
        "  summarise(\n",
        "    num_games = n(),\n",
        "    num_win = sum(Result == \"Win\", na.rm = TRUE),\n",
        "    num_loss = sum(Result == \"Loss\", na.rm = TRUE)\n",
        "  )\n",
        "\n",
        "# 2. Pivot the data\n",
        "bc_pivot <- bc_stats %>%\n",
        "  pivot_longer(cols = c(num_games, num_win, num_loss), names_to = \"variable\", values_to = \"value\")\n",
        "\n",
        "# 3. & 4. Plot the data and make it look nice\n",
        "plot1 <- ggplot(bc_pivot, aes(x = Season, y = value, fill = variable)) +\n",
        "  geom_bar(stat = \"identity\", position = \"dodge\") +\n",
        "  labs(title = \"BC's Performance by Season\",\n",
        "       x = \"Season\",\n",
        "       y = \"Count\") +\n",
        "  theme_minimal() +\n",
        "  scale_fill_manual(values = c(\"num_games\" = \"blue\", \"num_win\" = \"green\", \"num_loss\" = \"red\")) +\n",
        "  theme(legend.position = \"top\", legend.title = element_blank())\n",
        "\n",
        "print(plot1)"
      ],
      "metadata": {
        "id": "EK9j2fdZjLPC",
        "colab": {
          "base_uri": "https://localhost:8080/",
          "height": 437
        },
        "outputId": "267df689-fca1-4766-f024-cb837944b974"
      },
      "execution_count": 37,
      "outputs": [
        {
          "output_type": "display_data",
          "data": {
            "text/plain": [
              "plot without title"
            ],
            "image/png": "[encoded data removed]"
          },
          "metadata": {
            "image/png": {
              "width": 420,
              "height": 420
            }
          }
        }
      ]
    }
  ]
}